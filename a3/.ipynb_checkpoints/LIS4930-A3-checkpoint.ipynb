{
 "cells": [
  {
   "cell_type": "markdown",
   "id": "bd04a017-d1fa-426f-a802-ec38f1f7aa71",
   "metadata": {},
   "source": [
    "## Developer: Anthony Patregnani ##\n",
    "\n",
    "## Course: LIS4930, Exploration into AI, Machine and Deep Learning ##\n",
    "\n",
    "## Semester: Summer 2023 ##\n",
    "\n",
    "# Program Requirements: #\n",
    "    1. Get\n",
    "    2. Clean\n",
    "    3. Prepare\n",
    "    4. Analyze\n",
    "    5. Display/Visualize"
   ]
  },
  {
   "cell_type": "code",
   "execution_count": 1,
   "id": "6bfa78f7-d2a7-4e59-9c9f-1225f636aa85",
   "metadata": {},
   "outputs": [],
   "source": [
    "# 1. import pandas (open source data analysis/science and AI package)\n",
    "\n",
    "import pandas as pd"
   ]
  },
  {
   "cell_type": "markdown",
   "id": "a9ef7e75-a2e3-4df3-a37e-3e8f98bb5134",
   "metadata": {},
   "source": [
    "## Get Data - read cleaned pickle file ##"
   ]
  },
  {
   "cell_type": "code",
   "execution_count": 2,
   "id": "012694c3-7718-4b9c-9d48-289e89b14392",
   "metadata": {},
   "outputs": [],
   "source": [
    "# 2. read cleaned pickle file from Assignment 2 into \"mortality_data\" variable \n",
    "\n",
    "mortality_data = pd.read_pickle('mortality_cleaned.pkl')"
   ]
  },
  {
   "cell_type": "markdown",
   "id": "0b242eaa-7c70-4aee-884f-325a9175c474",
   "metadata": {},
   "source": [
    "## Examine Cleaned Data ##"
   ]
  },
  {
   "cell_type": "code",
   "execution_count": 3,
   "id": "85d6d1ad-cd64-4d70-a827-a5ff3db99ade",
   "metadata": {},
   "outputs": [
    {
     "name": "stdout",
     "output_type": "stream",
     "text": [
      "     Year     AgeGroup  DeathRate\n",
      "0    1900    1-4 Years     1983.8\n",
      "1    1901    1-4 Years     1695.0\n",
      "2    1902    1-4 Years     1655.7\n",
      "3    1903    1-4 Years     1542.1\n",
      "4    1904    1-4 Years     1591.5\n",
      "..    ...          ...        ...\n",
      "471  2014  15-19 Years       45.5\n",
      "472  2015  15-19 Years       48.3\n",
      "473  2016  15-19 Years       51.2\n",
      "474  2017  15-19 Years       51.5\n",
      "475  2018  15-19 Years       49.2\n",
      "\n",
      "[476 rows x 3 columns]\n"
     ]
    }
   ],
   "source": [
    "# 3. display first and last 5 rows with one command!\n",
    "# Note: the following way *only* works in Jupyter Notebooks\n",
    "# mortality_data\n",
    "\n",
    "print(mortality_data)"
   ]
  },
  {
   "cell_type": "markdown",
   "id": "e05085f9-a16e-4156-ac85-08ad993f31bb",
   "metadata": {},
   "source": [
    "## Display DataFrame Attributes ##"
   ]
  },
  {
   "cell_type": "code",
   "execution_count": 4,
   "id": "4562ee3a-88b9-4de7-b949-a2c11b92b351",
   "metadata": {},
   "outputs": [
    {
     "name": "stdout",
     "output_type": "stream",
     "text": [
      "<class 'pandas.core.frame.DataFrame'>\n",
      "RangeIndex: 476 entries, 0 to 475\n",
      "Data columns (total 3 columns):\n",
      " #   Column     Non-Null Count  Dtype  \n",
      "---  ------     --------------  -----  \n",
      " 0   Year       476 non-null    int64  \n",
      " 1   AgeGroup   476 non-null    object \n",
      " 2   DeathRate  476 non-null    float64\n",
      "dtypes: float64(1), int64(1), object(1)\n",
      "memory usage: 11.3+ KB\n"
     ]
    }
   ],
   "source": [
    "# 4. Use Pandas DataFrame info() Method:\n",
    "# Prints:\n",
    "# 1. number of columns\n",
    "# 2. column labels\n",
    "# 3. column data types\n",
    "# 4. column usage\n",
    "# 5. range Index\n",
    "# 6. number of cells in each column (non-null values)\n",
    "\n",
    "mortality_data.info()"
   ]
  },
  {
   "cell_type": "code",
   "execution_count": 5,
   "id": "6cff3bf5-411f-4523-b1e5-c1563018a77b",
   "metadata": {},
   "outputs": [
    {
     "name": "stdout",
     "output_type": "stream",
     "text": [
      "Index:   RangeIndex(start=0, stop=476, step=1)\n",
      "Columns: Index(['Year', 'AgeGroup', 'DeathRate'], dtype='object')\n",
      "Size:    1428\n",
      "Shape:   (476, 3)\n"
     ]
    }
   ],
   "source": [
    "# 5. Print the following datafram attributes: index, columns, size, and shape\n",
    "\n",
    "print(\"Index:  \", mortality_data.index)\n",
    "print(\"Columns:\", mortality_data.columns)\n",
    "print(\"Size:   \", mortality_data.size)\n",
    "print(\"Shape:  \", mortality_data.shape)"
   ]
  },
  {
   "cell_type": "code",
   "execution_count": 6,
   "id": "94eaa478-3192-4315-ae14-4bf0f4bd6188",
   "metadata": {},
   "outputs": [
    {
     "name": "stdout",
     "output_type": "stream",
     "text": [
      "     Year   AgeGroup  DeathRate\n",
      "231  2012  5-9 Years       11.4\n",
      "237  2018  5-9 Years       11.5\n",
      "229  2010  5-9 Years       11.5\n"
     ]
    }
   ],
   "source": [
    "# 6. display first 3 records sorted by DeathRate in ascending order \n",
    "# Note: sort_values() function sorts in ascending order by default\n",
    "\n",
    "print(mortality_data.sort_values('DeathRate').head(3))"
   ]
  },
  {
   "cell_type": "code",
   "execution_count": 7,
   "id": "d3eb86cd-d568-40ce-ab58-03f56597be5b",
   "metadata": {},
   "outputs": [
    {
     "name": "stdout",
     "output_type": "stream",
     "text": [
      "   Year   AgeGroup  DeathRate\n",
      "0  1900  1-4 Years     1983.8\n",
      "1  1901  1-4 Years     1695.0\n",
      "2  1902  1-4 Years     1655.7\n"
     ]
    }
   ],
   "source": [
    "# 7. display last 3 records sorted by DeathRate in descending order\n",
    "\n",
    "print(mortality_data.sort_values('DeathRate', ascending=False).head(3))"
   ]
  },
  {
   "cell_type": "code",
   "execution_count": 8,
   "id": "c68ab318-a22a-4f75-bf8e-4f799e594089",
   "metadata": {},
   "outputs": [
    {
     "name": "stdout",
     "output_type": "stream",
     "text": [
      "     Year     AgeGroup  DeathRate\n",
      "238  1900  10-14 Years      298.3\n",
      "119  1900    5-9 Years      466.1\n",
      "357  1900  15-19 Years      484.8\n"
     ]
    }
   ],
   "source": [
    "# 8. display first 3 records sorted by Year and DeathRate both in ascending order\n",
    "# Note: major/minor order (left to right). Here, first Year, then DeathRate\n",
    "\n",
    "print(mortality_data.sort_values(['Year', 'DeathRate']).head(3))"
   ]
  },
  {
   "cell_type": "code",
   "execution_count": 9,
   "id": "c62ad21d-ee2f-4a4e-b066-8eb16c6109e1",
   "metadata": {},
   "outputs": [
    {
     "name": "stdout",
     "output_type": "stream",
     "text": [
      "     Year   AgeGroup  DeathRate\n",
      "231  2012  5-9 Years       11.4\n",
      "229  2010  5-9 Years       11.5\n",
      "233  2014  5-9 Years       11.5\n"
     ]
    }
   ],
   "source": [
    "# 9. display first 3 records sorted by DeathRate and Year both in ascending order\n",
    "# Note: major/minor order \n",
    "\n",
    "print(mortality_data.sort_values(['DeathRate', 'Year']).head(3))"
   ]
  },
  {
   "cell_type": "code",
   "execution_count": 10,
   "id": "b3ec8da2-765b-4d30-af49-3ca516ee49eb",
   "metadata": {},
   "outputs": [
    {
     "name": "stdout",
     "output_type": "stream",
     "text": [
      "     Year     AgeGroup  DeathRate\n",
      "0    1900    1-4 Years     1983.8\n",
      "357  1900  15-19 Years      484.8\n",
      "119  1900    5-9 Years      466.1\n",
      "238  1900  10-14 Years      298.3\n",
      "1    1901    1-4 Years     1695.0\n"
     ]
    }
   ],
   "source": [
    "# 10. display first 5 records sorted (first) by Year (ascending order), then DeathRate (descending order)\n",
    "\n",
    "print(mortality_data.sort_values(['Year', 'DeathRate'], ascending=[True, False]).head())"
   ]
  },
  {
   "cell_type": "code",
   "execution_count": 11,
   "id": "2442f744-c3c0-41ee-ade3-13e44f6567f8",
   "metadata": {},
   "outputs": [
    {
     "name": "stdout",
     "output_type": "stream",
     "text": [
      "   Year   AgeGroup  DeathRate\n",
      "0  1900  1-4 Years     1983.8\n",
      "1  1901  1-4 Years     1695.0\n",
      "2  1902  1-4 Years     1655.7\n",
      "4  1904  1-4 Years     1591.5\n",
      "6  1906  1-4 Years     1580.0\n"
     ]
    }
   ],
   "source": [
    "# 11. display first 5 records sorted (first) by DeathRate (descending order), then Year (ascending order)\n",
    "\n",
    "print(mortality_data.sort_values(['DeathRate', 'Year'], ascending=[False, True]).head())"
   ]
  },
  {
   "cell_type": "markdown",
   "id": "bbbc8727-717d-4342-a7dc-4cd00e900bd9",
   "metadata": {},
   "source": [
    "## Preparing Data - apply Statistical Functions ##"
   ]
  },
  {
   "cell_type": "code",
   "execution_count": 12,
   "id": "424a2dd8-8349-47dc-ac0d-228629e287eb",
   "metadata": {},
   "outputs": [
    {
     "name": "stdout",
     "output_type": "stream",
     "text": [
      "192.92415966386554\n"
     ]
    }
   ],
   "source": [
    "# 12. Display DeathRate mean\n",
    "\n",
    "print(mortality_data['DeathRate'].mean())"
   ]
  },
  {
   "cell_type": "code",
   "execution_count": 13,
   "id": "b4e355fe-2e7b-491d-a96b-2b4287d658bc",
   "metadata": {},
   "outputs": [
    {
     "name": "stdout",
     "output_type": "stream",
     "text": [
      "DeathRate mean: 192.92415966386554\n"
     ]
    }
   ],
   "source": [
    "# 13. display concatenated string and numeric output\n",
    "\n",
    "print(\"DeathRate mean: \" + str(mortality_data.DeathRate.mean()))"
   ]
  },
  {
   "cell_type": "code",
   "execution_count": 14,
   "id": "5d1d6eb6-1864-454c-b055-28a618ec3843",
   "metadata": {},
   "outputs": [
    {
     "name": "stdout",
     "output_type": "stream",
     "text": [
      "DeathRate mean: 192.92\n"
     ]
    }
   ],
   "source": [
    "# 14. Same as above, though formatted to two decimal places\n",
    "\n",
    "print(\"DeathRate mean: \" + str(format(mortality_data.DeathRate.mean(), \".2f\")))"
   ]
  },
  {
   "cell_type": "code",
   "execution_count": 15,
   "id": "b5ffe1d1-4756-479f-a25b-360e74b4505e",
   "metadata": {},
   "outputs": [
    {
     "name": "stdout",
     "output_type": "stream",
     "text": [
      "AgeGroup     5-9 Years\n",
      "DeathRate       1983.8\n",
      "dtype: object\n"
     ]
    }
   ],
   "source": [
    "# 15. Display max AgeGroup and DeathRate values (two columns)\n",
    "# Note: AgeGroup sorted by *ASCII* values (5>1)--that is, why it is important to zero-fill, when necessary (see below)\n",
    "\n",
    "print(mortality_data[['AgeGroup', 'DeathRate']].max())"
   ]
  },
  {
   "cell_type": "code",
   "execution_count": 16,
   "id": "753f9729-10e3-49f9-a1c1-968ec81bc69f",
   "metadata": {},
   "outputs": [
    {
     "name": "stdout",
     "output_type": "stream",
     "text": [
      "Year         476\n",
      "AgeGroup     476\n",
      "DeathRate    476\n",
      "dtype: int64\n"
     ]
    }
   ],
   "source": [
    "# 16. display total numbers (all columns, excluding null values)\n",
    "\n",
    "print(mortality_data.count())"
   ]
  },
  {
   "cell_type": "code",
   "execution_count": 17,
   "id": "60661744-d554-4b07-8c60-8f78f39e6df9",
   "metadata": {},
   "outputs": [
    {
     "name": "stdout",
     "output_type": "stream",
     "text": [
      "1959.0\n",
      "1959.0\n"
     ]
    }
   ],
   "source": [
    "# 17. using pandas quantile() function, display 50% value of Year column, verify using median() function\n",
    "\n",
    "print(mortality_data['Year'].quantile(0.5))\n",
    "print(mortality_data['Year'].median())"
   ]
  },
  {
   "cell_type": "code",
   "execution_count": 18,
   "id": "32d5db88-bc2c-4c44-91c5-9a43de784f36",
   "metadata": {},
   "outputs": [
    {
     "name": "stdout",
     "output_type": "stream",
     "text": [
      "       Year  DeathRate\n",
      "0.5  1959.0       89.5\n",
      "Year         1959.0\n",
      "DeathRate      89.5\n",
      "dtype: float64\n"
     ]
    }
   ],
   "source": [
    "# 18. same as above, though, display 50% value of both Year and DeathRate columns, verify using median() function\n",
    "\n",
    "print(mortality_data[['Year', 'DeathRate']].quantile([.5]))\n",
    "print(mortality_data[['Year', 'DeathRate']].median())"
   ]
  },
  {
   "cell_type": "code",
   "execution_count": 19,
   "id": "96794fb9-df0c-417e-b190-68cbae4b36c5",
   "metadata": {},
   "outputs": [
    {
     "name": "stdout",
     "output_type": "stream",
     "text": [
      "       Year  DeathRate\n",
      "0.1  1911.5      21.50\n",
      "0.9  2006.5     430.85\n"
     ]
    }
   ],
   "source": [
    "# 19. same as above, though, display 10% value of both Year and DeathRate columns, then 90% value of each, using one statement\n",
    "# quantile values (Example: 10% and 90%)\n",
    "# 10% year = 1911.5, and 10% deathrate less than 21.50\n",
    "# 90% year = 2006.5, and 90% deathrate less than 430.85\n",
    "\n",
    "print(mortality_data.quantile([.1,.9], numeric_only=True))"
   ]
  },
  {
   "cell_type": "code",
   "execution_count": 20,
   "id": "c48ca20d-485f-4bb4-8a9a-b7a1caf37c59",
   "metadata": {},
   "outputs": [
    {
     "name": "stdout",
     "output_type": "stream",
     "text": [
      "0       1983.8\n",
      "1       3678.8\n",
      "2       5334.5\n",
      "3       6876.6\n",
      "4       8468.1\n",
      "        ...   \n",
      "471    91631.7\n",
      "472    91680.0\n",
      "473    91731.2\n",
      "474    91782.7\n",
      "475    91831.9\n",
      "Name: DeathRate, Length: 476, dtype: float64\n"
     ]
    }
   ],
   "source": [
    "# 20. display cumlative sum of deathrate values (i.e, each row added to previous row), use cumsum() function\n",
    "\n",
    "print(mortality_data['DeathRate'].cumsum())"
   ]
  },
  {
   "cell_type": "code",
   "execution_count": 21,
   "id": "70e71a1e-2e87-44b9-b0be-88c08ae7b705",
   "metadata": {},
   "outputs": [
    {
     "name": "stdout",
     "output_type": "stream",
     "text": [
      "0    1983.8\n",
      "1    1695.0\n",
      "2    1655.7\n",
      "3    1542.1\n",
      "4    1591.5\n",
      "Name: DeathRate, dtype: float64\n"
     ]
    }
   ],
   "source": [
    "# 21. verify cumsum() function by displaying first 5 records of DeathRate col\n",
    "\n",
    "print(mortality_data['DeathRate'].head(5))"
   ]
  },
  {
   "cell_type": "markdown",
   "id": "128fb702-74be-4b81-a1d6-708cd8a766b2",
   "metadata": {},
   "source": [
    "## Preparing data - column arithmetic ##"
   ]
  },
  {
   "cell_type": "code",
   "execution_count": 22,
   "id": "8de74b33-043a-4662-878d-3f54e07f566c",
   "metadata": {},
   "outputs": [],
   "source": [
    "# 22. create and display two new columns (i.e., 'Mean' and\n",
    "# 'Mean Centered' displays how far from the mean each value\n",
    "# 'centering' refers to the process of subtracting the mean\n",
    "# 'centering' is important when interpreting group effects of\n",
    "# 'centering' redefines 'e point' for 'predictor' to be whatever\n",
    "# Note: Explicit Line joining using backslash (\\).\n",
    "# https://docs.python.org/3/reference/Lexical analysis.html#\n",
    "\n",
    "mortality_data[ 'Mean'] = mortality_data.DeathRate.mean()\n",
    "mortality_data[ 'MeanCentered'] = \\\n",
    "    mortality_data.DeathRate - mortality_data.DeathRate.mean()"
   ]
  },
  {
   "cell_type": "code",
   "execution_count": 23,
   "id": "ac2b900e-ee22-44db-ad21-926356eb8e40",
   "metadata": {},
   "outputs": [
    {
     "name": "stdout",
     "output_type": "stream",
     "text": [
      "     Year     AgeGroup  DeathRate       Mean  MeanCentered\n",
      "0    1900    1-4 Years     1983.8  192.92416    1790.87584\n",
      "1    1901    1-4 Years     1695.0  192.92416    1502.07584\n",
      "2    1902    1-4 Years     1655.7  192.92416    1462.77584\n",
      "3    1903    1-4 Years     1542.1  192.92416    1349.17584\n",
      "4    1904    1-4 Years     1591.5  192.92416    1398.57584\n",
      "..    ...          ...        ...        ...           ...\n",
      "471  2014  15-19 Years       45.5  192.92416    -147.42416\n",
      "472  2015  15-19 Years       48.3  192.92416    -144.62416\n",
      "473  2016  15-19 Years       51.2  192.92416    -141.72416\n",
      "474  2017  15-19 Years       51.5  192.92416    -141.42416\n",
      "475  2018  15-19 Years       49.2  192.92416    -143.72416\n",
      "\n",
      "[476 rows x 5 columns]\n"
     ]
    }
   ],
   "source": [
    "# 23. print mortality_data DF\n",
    "# Note: new cols in mortality_data DataFrame\n",
    "\n",
    "print(mortality_data)"
   ]
  },
  {
   "cell_type": "markdown",
   "id": "968c99c5-f4b8-4da2-92fb-541f17e82818",
   "metadata": {},
   "source": [
    "## Preparing data - modify string data in column ##"
   ]
  },
  {
   "cell_type": "code",
   "execution_count": 24,
   "id": "7886ce95-269f-4e40-a38d-780672398bd0",
   "metadata": {},
   "outputs": [],
   "source": [
    "# 24. modify col names, so that col names are treated 'equalLy, that is, when being sorted (here, using dictionary)\n",
    "# inplace set to true to in order to replace values in DataFrame\n",
    "mortality_data.AgeGroup.replace(\n",
    "{'1-4 Years': '01-04 Years', '5-9 Years': '05-09 Years'},\n",
    "inplace=True)"
   ]
  },
  {
   "cell_type": "markdown",
   "id": "4eb7ca01-7b53-4bed-bbd1-f804d369823b",
   "metadata": {},
   "source": [
    "## Save prepped DataFrame to pickle file, then read ##"
   ]
  },
  {
   "cell_type": "code",
   "execution_count": 25,
   "id": "7d3a171d-c772-42d3-8253-7af67335ec91",
   "metadata": {},
   "outputs": [],
   "source": [
    "# 25. save prepped DataFrame to pickle file\n",
    "\n",
    "mortality_data.to_pickle('mortality_prepped.pkl')"
   ]
  },
  {
   "cell_type": "code",
   "execution_count": 26,
   "id": "a818383c-5cb6-4616-80d8-bb0b70adc666",
   "metadata": {},
   "outputs": [
    {
     "data": {
      "text/html": [
       "<div>\n",
       "<style scoped>\n",
       "    .dataframe tbody tr th:only-of-type {\n",
       "        vertical-align: middle;\n",
       "    }\n",
       "\n",
       "    .dataframe tbody tr th {\n",
       "        vertical-align: top;\n",
       "    }\n",
       "\n",
       "    .dataframe thead th {\n",
       "        text-align: right;\n",
       "    }\n",
       "</style>\n",
       "<table border=\"1\" class=\"dataframe\">\n",
       "  <thead>\n",
       "    <tr style=\"text-align: right;\">\n",
       "      <th></th>\n",
       "      <th>Year</th>\n",
       "      <th>AgeGroup</th>\n",
       "      <th>DeathRate</th>\n",
       "      <th>Mean</th>\n",
       "      <th>MeanCentered</th>\n",
       "    </tr>\n",
       "  </thead>\n",
       "  <tbody>\n",
       "    <tr>\n",
       "      <th>0</th>\n",
       "      <td>1900</td>\n",
       "      <td>01-04 Years</td>\n",
       "      <td>1983.8</td>\n",
       "      <td>192.92416</td>\n",
       "      <td>1790.87584</td>\n",
       "    </tr>\n",
       "    <tr>\n",
       "      <th>1</th>\n",
       "      <td>1901</td>\n",
       "      <td>01-04 Years</td>\n",
       "      <td>1695.0</td>\n",
       "      <td>192.92416</td>\n",
       "      <td>1502.07584</td>\n",
       "    </tr>\n",
       "    <tr>\n",
       "      <th>2</th>\n",
       "      <td>1902</td>\n",
       "      <td>01-04 Years</td>\n",
       "      <td>1655.7</td>\n",
       "      <td>192.92416</td>\n",
       "      <td>1462.77584</td>\n",
       "    </tr>\n",
       "    <tr>\n",
       "      <th>3</th>\n",
       "      <td>1903</td>\n",
       "      <td>01-04 Years</td>\n",
       "      <td>1542.1</td>\n",
       "      <td>192.92416</td>\n",
       "      <td>1349.17584</td>\n",
       "    </tr>\n",
       "    <tr>\n",
       "      <th>4</th>\n",
       "      <td>1904</td>\n",
       "      <td>01-04 Years</td>\n",
       "      <td>1591.5</td>\n",
       "      <td>192.92416</td>\n",
       "      <td>1398.57584</td>\n",
       "    </tr>\n",
       "  </tbody>\n",
       "</table>\n",
       "</div>"
      ],
      "text/plain": [
       "   Year     AgeGroup  DeathRate       Mean  MeanCentered\n",
       "0  1900  01-04 Years     1983.8  192.92416    1790.87584\n",
       "1  1901  01-04 Years     1695.0  192.92416    1502.07584\n",
       "2  1902  01-04 Years     1655.7  192.92416    1462.77584\n",
       "3  1903  01-04 Years     1542.1  192.92416    1349.17584\n",
       "4  1904  01-04 Years     1591.5  192.92416    1398.57584"
      ]
     },
     "execution_count": 26,
     "metadata": {},
     "output_type": "execute_result"
    }
   ],
   "source": [
    "# 26. Read prepped DataFrame from pickle file, and print first 5 records\n",
    "\n",
    "mortality_data = pd.read_pickle ('mortality_prepped.pkl')\n",
    "mortality_data.head()"
   ]
  },
  {
   "cell_type": "markdown",
   "id": "1431eb89-b4f4-4c84-bd37-a6f5dc0e72ea",
   "metadata": {},
   "source": [
    "## Shape data - using index (sometimes, makes plotting easier!) ##\n",
    "\n",
    "## Set and use an index ##"
   ]
  },
  {
   "cell_type": "code",
   "execution_count": 27,
   "id": "9acb9efe-2d88-4931-a89b-e3679d83731a",
   "metadata": {},
   "outputs": [
    {
     "data": {
      "text/html": [
       "<div>\n",
       "<style scoped>\n",
       "    .dataframe tbody tr th:only-of-type {\n",
       "        vertical-align: middle;\n",
       "    }\n",
       "\n",
       "    .dataframe tbody tr th {\n",
       "        vertical-align: top;\n",
       "    }\n",
       "\n",
       "    .dataframe thead th {\n",
       "        text-align: right;\n",
       "    }\n",
       "</style>\n",
       "<table border=\"1\" class=\"dataframe\">\n",
       "  <thead>\n",
       "    <tr style=\"text-align: right;\">\n",
       "      <th></th>\n",
       "      <th>Year</th>\n",
       "      <th>AgeGroup</th>\n",
       "      <th>DeathRate</th>\n",
       "      <th>Mean</th>\n",
       "      <th>MeanCentered</th>\n",
       "    </tr>\n",
       "  </thead>\n",
       "  <tbody>\n",
       "    <tr>\n",
       "      <th>0</th>\n",
       "      <td>1900</td>\n",
       "      <td>01-04 Years</td>\n",
       "      <td>1983.8</td>\n",
       "      <td>192.92416</td>\n",
       "      <td>1790.87584</td>\n",
       "    </tr>\n",
       "    <tr>\n",
       "      <th>1</th>\n",
       "      <td>1901</td>\n",
       "      <td>01-04 Years</td>\n",
       "      <td>1695.0</td>\n",
       "      <td>192.92416</td>\n",
       "      <td>1502.07584</td>\n",
       "    </tr>\n",
       "  </tbody>\n",
       "</table>\n",
       "</div>"
      ],
      "text/plain": [
       "   Year     AgeGroup  DeathRate       Mean  MeanCentered\n",
       "0  1900  01-04 Years     1983.8  192.92416    1790.87584\n",
       "1  1901  01-04 Years     1695.0  192.92416    1502.07584"
      ]
     },
     "execution_count": 27,
     "metadata": {},
     "output_type": "execute_result"
    }
   ],
   "source": [
    "# 27. display first 2 records (note current indexes)\n",
    "\n",
    "mortality_data.head(2)"
   ]
  },
  {
   "cell_type": "code",
   "execution_count": 28,
   "id": "d952ef2e-ceba-483a-b03d-4e79e6ea6139",
   "metadata": {},
   "outputs": [
    {
     "data": {
      "text/html": [
       "<div>\n",
       "<style scoped>\n",
       "    .dataframe tbody tr th:only-of-type {\n",
       "        vertical-align: middle;\n",
       "    }\n",
       "\n",
       "    .dataframe tbody tr th {\n",
       "        vertical-align: top;\n",
       "    }\n",
       "\n",
       "    .dataframe thead th {\n",
       "        text-align: right;\n",
       "    }\n",
       "</style>\n",
       "<table border=\"1\" class=\"dataframe\">\n",
       "  <thead>\n",
       "    <tr style=\"text-align: right;\">\n",
       "      <th></th>\n",
       "      <th>AgeGroup</th>\n",
       "      <th>DeathRate</th>\n",
       "      <th>Mean</th>\n",
       "      <th>MeanCentered</th>\n",
       "    </tr>\n",
       "    <tr>\n",
       "      <th>Year</th>\n",
       "      <th></th>\n",
       "      <th></th>\n",
       "      <th></th>\n",
       "      <th></th>\n",
       "    </tr>\n",
       "  </thead>\n",
       "  <tbody>\n",
       "    <tr>\n",
       "      <th>1900</th>\n",
       "      <td>01-04 Years</td>\n",
       "      <td>1983.8</td>\n",
       "      <td>192.92416</td>\n",
       "      <td>1790.87584</td>\n",
       "    </tr>\n",
       "    <tr>\n",
       "      <th>1901</th>\n",
       "      <td>01-04 Years</td>\n",
       "      <td>1695.0</td>\n",
       "      <td>192.92416</td>\n",
       "      <td>1502.07584</td>\n",
       "    </tr>\n",
       "  </tbody>\n",
       "</table>\n",
       "</div>"
      ],
      "text/plain": [
       "         AgeGroup  DeathRate       Mean  MeanCentered\n",
       "Year                                                 \n",
       "1900  01-04 Years     1983.8  192.92416    1790.87584\n",
       "1901  01-04 Years     1695.0  192.92416    1502.07584"
      ]
     },
     "execution_count": 28,
     "metadata": {},
     "output_type": "execute_result"
    }
   ],
   "source": [
    "# 28. index \"year\" col, then display first two records (note new indexes)\n",
    "# ***Note:*** indexed columns *cannot* be used as parameters in other methods/functions!\n",
    "\n",
    "mortality_data = mortality_data.set_index('Year')\n",
    "mortality_data.head(2)"
   ]
  },
  {
   "cell_type": "code",
   "execution_count": 29,
   "id": "f420be9f-9162-4a39-b23c-472920969a0d",
   "metadata": {},
   "outputs": [
    {
     "data": {
      "text/html": [
       "<div>\n",
       "<style scoped>\n",
       "    .dataframe tbody tr th:only-of-type {\n",
       "        vertical-align: middle;\n",
       "    }\n",
       "\n",
       "    .dataframe tbody tr th {\n",
       "        vertical-align: top;\n",
       "    }\n",
       "\n",
       "    .dataframe thead th {\n",
       "        text-align: right;\n",
       "    }\n",
       "</style>\n",
       "<table border=\"1\" class=\"dataframe\">\n",
       "  <thead>\n",
       "    <tr style=\"text-align: right;\">\n",
       "      <th></th>\n",
       "      <th>Year</th>\n",
       "      <th>AgeGroup</th>\n",
       "      <th>DeathRate</th>\n",
       "      <th>Mean</th>\n",
       "      <th>MeanCentered</th>\n",
       "    </tr>\n",
       "  </thead>\n",
       "  <tbody>\n",
       "    <tr>\n",
       "      <th>0</th>\n",
       "      <td>1900</td>\n",
       "      <td>01-04 Years</td>\n",
       "      <td>1983.8</td>\n",
       "      <td>192.92416</td>\n",
       "      <td>1790.87584</td>\n",
       "    </tr>\n",
       "    <tr>\n",
       "      <th>1</th>\n",
       "      <td>1901</td>\n",
       "      <td>01-04 Years</td>\n",
       "      <td>1695.0</td>\n",
       "      <td>192.92416</td>\n",
       "      <td>1502.07584</td>\n",
       "    </tr>\n",
       "  </tbody>\n",
       "</table>\n",
       "</div>"
      ],
      "text/plain": [
       "   Year     AgeGroup  DeathRate       Mean  MeanCentered\n",
       "0  1900  01-04 Years     1983.8  192.92416    1790.87584\n",
       "1  1901  01-04 Years     1695.0  192.92416    1502.07584"
      ]
     },
     "execution_count": 29,
     "metadata": {},
     "output_type": "execute_result"
    }
   ],
   "source": [
    "# 29. reset original index, then display first two records (note original indexes)\n",
    "# inplace set to true to in order to replace values in DataFrame\n",
    "\n",
    "mortality_data.reset_index(inplace=True)\n",
    "mortality_data.head(2)"
   ]
  },
  {
   "cell_type": "code",
   "execution_count": 30,
   "id": "2a60a32a-6ce5-4cbb-86a5-42d3debc9321",
   "metadata": {},
   "outputs": [
    {
     "data": {
      "text/html": [
       "<div>\n",
       "<style scoped>\n",
       "    .dataframe tbody tr th:only-of-type {\n",
       "        vertical-align: middle;\n",
       "    }\n",
       "\n",
       "    .dataframe tbody tr th {\n",
       "        vertical-align: top;\n",
       "    }\n",
       "\n",
       "    .dataframe thead th {\n",
       "        text-align: right;\n",
       "    }\n",
       "</style>\n",
       "<table border=\"1\" class=\"dataframe\">\n",
       "  <thead>\n",
       "    <tr style=\"text-align: right;\">\n",
       "      <th></th>\n",
       "      <th></th>\n",
       "      <th>DeathRate</th>\n",
       "      <th>Mean</th>\n",
       "      <th>MeanCentered</th>\n",
       "    </tr>\n",
       "    <tr>\n",
       "      <th>Year</th>\n",
       "      <th>AgeGroup</th>\n",
       "      <th></th>\n",
       "      <th></th>\n",
       "      <th></th>\n",
       "    </tr>\n",
       "  </thead>\n",
       "  <tbody>\n",
       "    <tr>\n",
       "      <th>1900</th>\n",
       "      <th>01-04 Years</th>\n",
       "      <td>1983.8</td>\n",
       "      <td>192.92416</td>\n",
       "      <td>1790.87584</td>\n",
       "    </tr>\n",
       "    <tr>\n",
       "      <th>1901</th>\n",
       "      <th>01-04 Years</th>\n",
       "      <td>1695.0</td>\n",
       "      <td>192.92416</td>\n",
       "      <td>1502.07584</td>\n",
       "    </tr>\n",
       "  </tbody>\n",
       "</table>\n",
       "</div>"
      ],
      "text/plain": [
       "                  DeathRate       Mean  MeanCentered\n",
       "Year AgeGroup                                       \n",
       "1900 01-04 Years     1983.8  192.92416    1790.87584\n",
       "1901 01-04 Years     1695.0  192.92416    1502.07584"
      ]
     },
     "execution_count": 30,
     "metadata": {},
     "output_type": "execute_result"
    }
   ],
   "source": [
    "# 30. create multi-index, check validity (i.e., no duplicates), then display first two records (note new indexes)\n",
    "# set multi-index to 'Year' and 'AgeGroup'\n",
    "\n",
    "mortality_data = mortality_data.set_index(\n",
    "    ['Year', 'AgeGroup'], verify_integrity=True)\n",
    "mortality_data.head(2)"
   ]
  },
  {
   "cell_type": "code",
   "execution_count": 31,
   "id": "b90851df-2925-46ea-a1d8-0f8745a6b88a",
   "metadata": {},
   "outputs": [
    {
     "data": {
      "text/html": [
       "<div>\n",
       "<style scoped>\n",
       "    .dataframe tbody tr th:only-of-type {\n",
       "        vertical-align: middle;\n",
       "    }\n",
       "\n",
       "    .dataframe tbody tr th {\n",
       "        vertical-align: top;\n",
       "    }\n",
       "\n",
       "    .dataframe thead th {\n",
       "        text-align: right;\n",
       "    }\n",
       "</style>\n",
       "<table border=\"1\" class=\"dataframe\">\n",
       "  <thead>\n",
       "    <tr style=\"text-align: right;\">\n",
       "      <th></th>\n",
       "      <th>Year</th>\n",
       "      <th>AgeGroup</th>\n",
       "      <th>DeathRate</th>\n",
       "      <th>Mean</th>\n",
       "      <th>MeanCentered</th>\n",
       "    </tr>\n",
       "  </thead>\n",
       "  <tbody>\n",
       "    <tr>\n",
       "      <th>0</th>\n",
       "      <td>1900</td>\n",
       "      <td>01-04 Years</td>\n",
       "      <td>1983.8</td>\n",
       "      <td>192.92416</td>\n",
       "      <td>1790.87584</td>\n",
       "    </tr>\n",
       "    <tr>\n",
       "      <th>1</th>\n",
       "      <td>1901</td>\n",
       "      <td>01-04 Years</td>\n",
       "      <td>1695.0</td>\n",
       "      <td>192.92416</td>\n",
       "      <td>1502.07584</td>\n",
       "    </tr>\n",
       "  </tbody>\n",
       "</table>\n",
       "</div>"
      ],
      "text/plain": [
       "   Year     AgeGroup  DeathRate       Mean  MeanCentered\n",
       "0  1900  01-04 Years     1983.8  192.92416    1790.87584\n",
       "1  1901  01-04 Years     1695.0  192.92416    1502.07584"
      ]
     },
     "execution_count": 31,
     "metadata": {},
     "output_type": "execute_result"
    }
   ],
   "source": [
    "# 31. reset original index (using inplace), then display first two records (note new indexes)\n",
    "\n",
    "mortality_data.reset_index(inplace=True)\n",
    "mortality_data. head(2)"
   ]
  },
  {
   "cell_type": "markdown",
   "id": "a6322fc5-d6d9-4282-ab9e-698d79a0a44f",
   "metadata": {},
   "source": [
    "## Shape data - using pivot (wide data)\n",
    "# • Similar to spreadsheet\n",
    "# • Each observation defined by both\n",
    "1. value at cell in table, and\n",
    "2. coordinates of cell with respect to row and column indices.\n",
    "# • Not: Cannot access variables in dataset by name\n",
    "# • https://seaborn.pydata.org/tutorial/data_structure.htm|#long-form-vs-wide-form-data\n",
    "## Pandas pivot() function:\n",
    "# https://pandas.pydata.org/docs/user_guide/reshaping.htm|freshaping-pivot\n",
    "# https://pandas.pydata.org/docs/reference/api/pandas.Dataframe.pivot.html\n",
    "# *Parameters:*\n",
    "    index: Column to use to make new DataFrame's index. If None, uses existing index.\n",
    "    columns: Column to use to make new DataFrame's columns.\n",
    "    values: Column(s) to use for populating new DataFrame's values. If not specified, all remaining columns used\n",
    "    returns: Reshaped DataFrame\n",
    "    Exception: ValueError raised if there are any duplicate indexes (cannot reshape if index/column pair not unique!)"
   ]
  },
  {
   "cell_type": "code",
   "execution_count": 32,
   "id": "7d9432c5-ebdf-41df-82fc-02493c9d87e0",
   "metadata": {},
   "outputs": [
    {
     "data": {
      "text/html": [
       "<div>\n",
       "<style scoped>\n",
       "    .dataframe tbody tr th:only-of-type {\n",
       "        vertical-align: middle;\n",
       "    }\n",
       "\n",
       "    .dataframe tbody tr th {\n",
       "        vertical-align: top;\n",
       "    }\n",
       "\n",
       "    .dataframe thead tr th {\n",
       "        text-align: left;\n",
       "    }\n",
       "\n",
       "    .dataframe thead tr:last-of-type th {\n",
       "        text-align: right;\n",
       "    }\n",
       "</style>\n",
       "<table border=\"1\" class=\"dataframe\">\n",
       "  <thead>\n",
       "    <tr>\n",
       "      <th></th>\n",
       "      <th colspan=\"4\" halign=\"left\">DeathRate</th>\n",
       "      <th colspan=\"4\" halign=\"left\">Mean</th>\n",
       "      <th colspan=\"4\" halign=\"left\">MeanCentered</th>\n",
       "    </tr>\n",
       "    <tr>\n",
       "      <th>AgeGroup</th>\n",
       "      <th>01-04 Years</th>\n",
       "      <th>05-09 Years</th>\n",
       "      <th>10-14 Years</th>\n",
       "      <th>15-19 Years</th>\n",
       "      <th>01-04 Years</th>\n",
       "      <th>05-09 Years</th>\n",
       "      <th>10-14 Years</th>\n",
       "      <th>15-19 Years</th>\n",
       "      <th>01-04 Years</th>\n",
       "      <th>05-09 Years</th>\n",
       "      <th>10-14 Years</th>\n",
       "      <th>15-19 Years</th>\n",
       "    </tr>\n",
       "    <tr>\n",
       "      <th>Year</th>\n",
       "      <th></th>\n",
       "      <th></th>\n",
       "      <th></th>\n",
       "      <th></th>\n",
       "      <th></th>\n",
       "      <th></th>\n",
       "      <th></th>\n",
       "      <th></th>\n",
       "      <th></th>\n",
       "      <th></th>\n",
       "      <th></th>\n",
       "      <th></th>\n",
       "    </tr>\n",
       "  </thead>\n",
       "  <tbody>\n",
       "    <tr>\n",
       "      <th>1900</th>\n",
       "      <td>1983.8</td>\n",
       "      <td>466.1</td>\n",
       "      <td>298.3</td>\n",
       "      <td>484.8</td>\n",
       "      <td>192.92416</td>\n",
       "      <td>192.92416</td>\n",
       "      <td>192.92416</td>\n",
       "      <td>192.92416</td>\n",
       "      <td>1790.87584</td>\n",
       "      <td>273.17584</td>\n",
       "      <td>105.37584</td>\n",
       "      <td>291.87584</td>\n",
       "    </tr>\n",
       "    <tr>\n",
       "      <th>1901</th>\n",
       "      <td>1695.0</td>\n",
       "      <td>427.6</td>\n",
       "      <td>273.6</td>\n",
       "      <td>454.4</td>\n",
       "      <td>192.92416</td>\n",
       "      <td>192.92416</td>\n",
       "      <td>192.92416</td>\n",
       "      <td>192.92416</td>\n",
       "      <td>1502.07584</td>\n",
       "      <td>234.67584</td>\n",
       "      <td>80.67584</td>\n",
       "      <td>261.47584</td>\n",
       "    </tr>\n",
       "    <tr>\n",
       "      <th>1902</th>\n",
       "      <td>1655.7</td>\n",
       "      <td>403.3</td>\n",
       "      <td>252.5</td>\n",
       "      <td>421.5</td>\n",
       "      <td>192.92416</td>\n",
       "      <td>192.92416</td>\n",
       "      <td>192.92416</td>\n",
       "      <td>192.92416</td>\n",
       "      <td>1462.77584</td>\n",
       "      <td>210.37584</td>\n",
       "      <td>59.57584</td>\n",
       "      <td>228.57584</td>\n",
       "    </tr>\n",
       "  </tbody>\n",
       "</table>\n",
       "</div>"
      ],
      "text/plain": [
       "           DeathRate                                            Mean  \\\n",
       "AgeGroup 01-04 Years 05-09 Years 10-14 Years 15-19 Years 01-04 Years   \n",
       "Year                                                                   \n",
       "1900          1983.8       466.1       298.3       484.8   192.92416   \n",
       "1901          1695.0       427.6       273.6       454.4   192.92416   \n",
       "1902          1655.7       403.3       252.5       421.5   192.92416   \n",
       "\n",
       "                                             MeanCentered              \\\n",
       "AgeGroup 05-09 Years 10-14 Years 15-19 Years  01-04 Years 05-09 Years   \n",
       "Year                                                                    \n",
       "1900       192.92416   192.92416   192.92416   1790.87584   273.17584   \n",
       "1901       192.92416   192.92416   192.92416   1502.07584   234.67584   \n",
       "1902       192.92416   192.92416   192.92416   1462.77584   210.37584   \n",
       "\n",
       "                                  \n",
       "AgeGroup 10-14 Years 15-19 Years  \n",
       "Year                              \n",
       "1900       105.37584   291.87584  \n",
       "1901        80.67584   261.47584  \n",
       "1902        59.57584   228.57584  "
      ]
     },
     "execution_count": 32,
     "metadata": {},
     "output_type": "execute_result"
    }
   ],
   "source": [
    "# 32. pivot the following DataFrame: index= 'Year', columns= 'AgeGroup*\n",
    "# index: 'Year'\n",
    "# column to use to make new frame's columns: 'AgeGroup'\n",
    "# values: all remaining columns to populate new DataFrame's values\n",
    "# Note: if no 'values' par, uses *all* remaining cols!\n",
    "# assign resulting DataFrame to 'mortality_wide' variable, then display first 3 records\n",
    "\n",
    "mortality_wide = mortality_data.pivot (index= \"Year\", columns= \"AgeGroup\")\n",
    "mortality_wide.head(3)"
   ]
  },
  {
   "cell_type": "code",
   "execution_count": 33,
   "id": "16f8bf7d-0515-42e1-bab0-3e7ca07a6084",
   "metadata": {},
   "outputs": [
    {
     "data": {
      "text/html": [
       "<div>\n",
       "<style scoped>\n",
       "    .dataframe tbody tr th:only-of-type {\n",
       "        vertical-align: middle;\n",
       "    }\n",
       "\n",
       "    .dataframe tbody tr th {\n",
       "        vertical-align: top;\n",
       "    }\n",
       "\n",
       "    .dataframe thead th {\n",
       "        text-align: right;\n",
       "    }\n",
       "</style>\n",
       "<table border=\"1\" class=\"dataframe\">\n",
       "  <thead>\n",
       "    <tr style=\"text-align: right;\">\n",
       "      <th>AgeGroup</th>\n",
       "      <th>01-04 Years</th>\n",
       "      <th>05-09 Years</th>\n",
       "      <th>10-14 Years</th>\n",
       "      <th>15-19 Years</th>\n",
       "    </tr>\n",
       "    <tr>\n",
       "      <th>Year</th>\n",
       "      <th></th>\n",
       "      <th></th>\n",
       "      <th></th>\n",
       "      <th></th>\n",
       "    </tr>\n",
       "  </thead>\n",
       "  <tbody>\n",
       "    <tr>\n",
       "      <th>1900</th>\n",
       "      <td>1983.8</td>\n",
       "      <td>466.1</td>\n",
       "      <td>298.3</td>\n",
       "      <td>484.8</td>\n",
       "    </tr>\n",
       "    <tr>\n",
       "      <th>1901</th>\n",
       "      <td>1695.0</td>\n",
       "      <td>427.6</td>\n",
       "      <td>273.6</td>\n",
       "      <td>454.4</td>\n",
       "    </tr>\n",
       "    <tr>\n",
       "      <th>1902</th>\n",
       "      <td>1655.7</td>\n",
       "      <td>403.3</td>\n",
       "      <td>252.5</td>\n",
       "      <td>421.5</td>\n",
       "    </tr>\n",
       "  </tbody>\n",
       "</table>\n",
       "</div>"
      ],
      "text/plain": [
       "AgeGroup  01-04 Years  05-09 Years  10-14 Years  15-19 Years\n",
       "Year                                                        \n",
       "1900           1983.8        466.1        298.3        484.8\n",
       "1901           1695.0        427.6        273.6        454.4\n",
       "1902           1655.7        403.3        252.5        421.5"
      ]
     },
     "execution_count": 33,
     "metadata": {},
     "output_type": "execute_result"
    }
   ],
   "source": [
    "# 33. pivot the following DataFrame:\n",
    "# index: 'Year'\n",
    "# column to use to make new frame's columns: 'AgeGroup'\n",
    "# values: 'DeathRate'\n",
    "# assign resulting DataFrame to 'mortality_wide' variable, then display first 3 records\n",
    "\n",
    "mortality_wide = mortality_data.pivot (index= \"Year\", columns=\"AgeGroup\", values=\"DeathRate\")\n",
    "mortality_wide.head(3)"
   ]
  },
  {
   "cell_type": "code",
   "execution_count": 34,
   "id": "d9b9ff69-e559-4c02-84c2-1b8beda5050c",
   "metadata": {},
   "outputs": [],
   "source": [
    "# 34. save wide DataFrame to Excel file ('mortality_wide.xLsx')\n",
    "# Note: *Be careful* saving wide DataFrame to Excel file changes index- -must change back (see below)!\n",
    "\n",
    "mortality_wide.to_excel('mortality_wide.xlsx')"
   ]
  },
  {
   "cell_type": "code",
   "execution_count": 35,
   "id": "d7d842c9-b89f-465e-a506-a4176921f5b7",
   "metadata": {},
   "outputs": [
    {
     "name": "stdout",
     "output_type": "stream",
     "text": [
      "   Year  01-04 Years  05-09 Years  10-14 Years  15-19 Years\n",
      "0  1900       1983.8        466.1        298.3        484.8\n",
      "1  1901       1695.0        427.6        273.6        454.4\n",
      "2  1902       1655.7        403.3        252.5        421.5\n",
      "3  1903       1542.1        414.7        268.2        434.1\n"
     ]
    }
   ],
   "source": [
    "# 35. read saved Excel file and assign to 'mortality_wide' variable, then display first 4 records\n",
    "\n",
    "mortality_wide = pd.read_excel('mortality_wide.xlsx')\n",
    "print(mortality_wide.head(4))"
   ]
  },
  {
   "cell_type": "code",
   "execution_count": 36,
   "id": "5b734703-48a1-4a9d-b406-5b779fd9f569",
   "metadata": {},
   "outputs": [],
   "source": [
    "# 36. save wide DataFrame to pickle file ('mortality_wide.pkL')\n",
    "\n",
    "mortality_wide.to_pickle('mortality_wide.pkl')"
   ]
  },
  {
   "cell_type": "code",
   "execution_count": 37,
   "id": "20a58bd7-3494-4f0e-bd4e-4346bd54f1f0",
   "metadata": {},
   "outputs": [
    {
     "ename": "NameError",
     "evalue": "name 'p' is not defined",
     "output_type": "error",
     "traceback": [
      "\u001b[1;31m---------------------------------------------------------------------------\u001b[0m",
      "\u001b[1;31mNameError\u001b[0m                                 Traceback (most recent call last)",
      "Cell \u001b[1;32mIn[37], line 3\u001b[0m\n\u001b[0;32m      1\u001b[0m \u001b[38;5;66;03m# 37. read saved pickle file and assign to 'mortality_wide' variable, then display first 5 records\u001b[39;00m\n\u001b[1;32m----> 3\u001b[0m mortality_wide \u001b[38;5;241m=\u001b[39m \u001b[43mp\u001b[49m\u001b[38;5;241m.\u001b[39mread_pickle (\u001b[38;5;124m'\u001b[39m\u001b[38;5;124mmortality_wide.pkl\u001b[39m\u001b[38;5;124m'\u001b[39m)\n\u001b[0;32m      4\u001b[0m mortality_wide\u001b[38;5;241m.\u001b[39mhead()\n",
      "\u001b[1;31mNameError\u001b[0m: name 'p' is not defined"
     ]
    }
   ],
   "source": [
    "# 37. read saved pickle file and assign to 'mortality_wide' variable, then display first 5 records\n",
    "\n",
    "mortality_wide = pd.read_pickle('mortality_wide.pkl')\n",
    "mortality_wide.head()"
   ]
  },
  {
   "cell_type": "markdown",
   "id": "f260d846-95ff-48ab-ac3b-bd76edb92cf0",
   "metadata": {},
   "source": [
    "## Shape data - using melt (long data)\n",
    " - Each variable is a column\n",
    " - Each observation is a row\n",
    " - can access variables in dataset by name\n",
    "# - https://seaborn.pydata.org/tutorial/data_structure.html#long-form-vs-wide-form-data\n",
    "## Pandas melt) function:\n",
    "# https://pandas.pydata.org/docs/user_guide/reshaping.html#freshaping-by-melt\n",
    "# https://pandas.pydata.org/docs/reference/api/pandas.DataFrame.melt.html\n",
    "# *Parameters:*\n",
    "    id vars: Column(s) to use as identifier variables.\n",
    "    value_vars: Column(s) to unpivot. If not specified, uses all columns not set as id_vars.\n",
    "    var_name: Name to use for 'variable' column. If None, uses frame.columns.name or 'variable'\n",
    "    value_name: Name to use for 'value' column.\n",
    "    col_level: If columns Multilndex, then use this level to melt.\n",
    "    ignore_index: If True, original index ignored. If False, original index retained. Index labels will be repeated as necessary.\n",
    "    Returns: Reshaped DataFrame"
   ]
  },
  {
   "cell_type": "code",
   "execution_count": null,
   "id": "79926bbb-ee8b-4790-8423-4c3707804287",
   "metadata": {},
   "outputs": [],
   "source": [
    "# 38. melt following DataFrame: 'mortality_wide'\n",
    "# id_vars='Year'\n",
    "# value_vars=['01-04 Years', '05-09 Years']\n",
    "# var_name='AgeGroup'\n",
    "# value_name='DeathRate'\n",
    "# assign resulting DataFrame to 'mortality_Long' variable, then display first 4 records\n",
    "\n",
    "mortality_long = mortality_wide.melt(id _vars='Year', value_vars=['01-04 Years', '05-09 Years'], var_name='AgeGroup', value_name='DeathRate')\n",
    "mortality_long.head(4)"
   ]
  },
  {
   "cell_type": "code",
   "execution_count": null,
   "id": "bb6c2a9d-b237-408b-b98c-79c8d4715dce",
   "metadata": {},
   "outputs": [],
   "source": [
    "# 39. using pandas option_context() function, display 6 rows (first 3 and Last 3) and all cols\n",
    "# Note: option_context() executes codeblock with set of options that revert to prior settings after execution\n",
    "# Note: 'None' value for 'display. max_columns' property returns *all* cols.\n",
    "with pd. option_context (\n",
    "'display. max_rows', 6,\n",
    "'display.max_columns', None):\n",
    "    print(mortality_long)"
   ]
  },
  {
   "cell_type": "markdown",
   "id": "40bf2262-566e-479b-91c2-8f3d74be0541",
   "metadata": {},
   "source": [
    "## Analyze grouped data using (single) aggregate functions ##"
   ]
  },
  {
   "cell_type": "code",
   "execution_count": null,
   "id": "e18910b4-5821-4684-bcdd-7d86b07551e5",
   "metadata": {},
   "outputs": [],
   "source": [
    "# 40. display first 5 records of 'mortality_data' DF (i.e., prior to aggregation)\n",
    "\n",
    "mortality_data.head()"
   ]
  },
  {
   "cell_type": "code",
   "execution_count": null,
   "id": "8ba967a3-c3a5-4b41-b646-1fb5c5ba87c2",
   "metadata": {},
   "outputs": [],
   "source": [
    "# 41. group 'AgeGroup' by mean, and display DF\n",
    "\n",
    "mortality_data.groupby('AgeGroup').mean()"
   ]
  },
  {
   "cell_type": "code",
   "execution_count": null,
   "id": "90c80d8c-2393-44f0-87e0-9dc359a24722",
   "metadata": {},
   "outputs": [],
   "source": [
    "# 42. group 'Year' by median, and display first 4 records\n",
    "# Note: See numeric_onLy=True note above.\n",
    "\n",
    "mortality_data.groupby('Year').median(numeric_only=True).head(4)"
   ]
  },
  {
   "cell_type": "code",
   "execution_count": null,
   "id": "4fd2ce60-d8b1-4aa4-ab1f-79a10b83e215",
   "metadata": {},
   "outputs": [],
   "source": [
    "# 43. group 'Year' and 'AgeGroup' by count, and display first 5 records\n",
    "# Note: only for demo purposes, since there is only 1 record for each group\n",
    "\n",
    "mortality_data.groupby(['Year', 'AgeGroup']).count().head()"
   ]
  },
  {
   "cell_type": "code",
   "execution_count": null,
   "id": "20af64d7-7aba-4836-951c-7fc0af6d5017",
   "metadata": {},
   "outputs": [],
   "source": [
    "# 44. group 'AgeGroup', then return statistical summary for 'DeathRate' using 'describe()' function\n",
    "\n",
    "mortality_data.groupby('AgeGroup')['DeathRate'].describe()"
   ]
  },
  {
   "cell_type": "markdown",
   "id": "07665aa9-dafa-49c7-996a-02ea574e7311",
   "metadata": {},
   "source": [
    "## Analyze grouped data using (multiple) aggregate functions ##"
   ]
  },
  {
   "cell_type": "code",
   "execution_count": null,
   "id": "8079c56a-560c-452c-b4b5-35b812fec9b8",
   "metadata": {},
   "outputs": [],
   "source": [
    "# 45. group 'AgeGroup', then using agg() function, aggregate *all* columns using 'mean' and 'median' functions\n",
    "\n",
    "mortality_data.groupby('AgeGroup').agg(['mean', 'median'])"
   ]
  },
  {
   "cell_type": "code",
   "execution_count": null,
   "id": "b50983d5-a468-4ef1-b24e-e574e6ed3ffc",
   "metadata": {},
   "outputs": [],
   "source": [
    "# 46. group 'AgeGroup', then using agg() function, aggregate onLy 'DeathRate' coLumn\n",
    "# using 'mean, median, standard deviation, and 'unique' functions\n",
    "\n",
    "mortality_data.groupby('AgeGroup')['DeathRate'].agg(['mean', 'median','std', 'nunique'])"
   ]
  },
  {
   "cell_type": "code",
   "execution_count": null,
   "id": "4e31351e-b0bd-4570-9c81-b3b91e76ae75",
   "metadata": {},
   "outputs": [],
   "source": [
    "# 47. group 'Year', then using agg() function, aggregate onLy 'DeathRate' coLumn\n",
    "# using 'mean, median, standard deviation, min, max, variance, and 'unique' functions\n",
    "\n",
    "mortality_data.groupby('Year')['DeathRate'].agg(['mean', 'median','std', 'min', 'max', 'var', 'nunique'])"
   ]
  },
  {
   "cell_type": "markdown",
   "id": "da209aa2-c374-4c0c-b820-73cd59f0fd51",
   "metadata": {},
   "source": [
    "## Visualize data ##\n",
    "\n",
    "# Note: There is no \"best\" way to visualize data. Different questions are best answered by different visualizations!\n",
    "# Chart Visualization: https://pandas.pydata.org/docs/user_guide/visualization.html\n",
    "# An Intuitive Guide to Data Visualization in Python: https://www.analyticsvidhya.com/blog/2021/02/an-intuitive-guide-to-visualization-in-python/"
   ]
  },
  {
   "cell_type": "code",
   "execution_count": null,
   "id": "d0174100-6661-4afe-ab64-55517554829b",
   "metadata": {},
   "outputs": [],
   "source": [
    "# 48. pivot 'mortality_data' DataFrame using the following parameters:\n",
    "# index: 'Year '\n",
    "# column to use to make new frame's columns: 'AgeGroup'\n",
    "# values: all remaining columns to populate new DataFrame's values\n",
    "# Note: if no 'values' par, uses *all* remaining cols!\n",
    "# after pivoting DataFrame, use plot() function to display Line plot (default)\n",
    "\n",
    "mortality_data.pivot(index='Year', columns='AgeGroup')['DeathRate'].plot()"
   ]
  },
  {
   "cell_type": "code",
   "execution_count": null,
   "id": "dbed3138-78c2-48aa-a8a2-a734e369335f",
   "metadata": {},
   "outputs": [],
   "source": [
    "# 49. dispLay same plot as above by re-indexing mortality_wide DF\n",
    "# Note: Because, saving wide DataFrame to Excel file changes index--must re -index (see above) !\n",
    "# Change index back to 'Year'\n",
    "\n",
    "mortality_wide = mortality_wide.set_index('Year')\n",
    "\n",
    "# save wide DataFrame to pickle file ('mortality_wide. pkl')\n",
    "# read saved pickle file and assign to 'mortality_wide' variable,\n",
    "# then dispLay first 5 records to dispLay new index\n",
    "\n",
    "mortality_wide.to_pickle(' mortality_wide. pkl')\n",
    "mortality_wide.pd.read_pickle('mortality_wide.pkl')\n",
    "mortality_wide.head()"
   ]
  },
  {
   "cell_type": "markdown",
   "id": "72acd294-0147-47ba-92e6-09928453e04d",
   "metadata": {},
   "source": [
    "## Outliers\n",
    "# Defined: \"Unusual\" dataset values\n",
    "# Problematic: Distort findings\n",
    "# Identitying outliers (simple):\n",
    "    1. Sort data\n",
    "    2. Graphs (e.g., boxplot (very easy to see!), scatterplot, and histogram)\n",
    "# Fixing:\n",
    "    1. Keep (not always bad!)\n",
    "    2. Drop\n",
    "    3. Modify (Winsorizing): https://en.wikipedia.org/wiki/Winsorizing\n",
    "    A. Cap (values)\n",
    "    B. Reassign (e.g., to mean/median value, or linear interpolation - \"curve fitting\"/estimating new values)\n",
    "    C. Other (nonexclusive) procedures--that is, not permitting \"exclusive\" procedures like trimming or truncating values"
   ]
  },
  {
   "cell_type": "code",
   "execution_count": null,
   "id": "863654eb-2cf9-444f-9215-d910bc0a6b52",
   "metadata": {},
   "outputs": [],
   "source": [
    "# https://www.simpLypsychology.org/boxplots.html\n",
    "# 50. using 'mortality_data' DataFrame, create a box plot (aka \"box and whisker plot\") for each age group\n",
    "# Note: box plot displays five-number summary: min, Ist quartile, median (2nd quartile), 3rd quartile, and max.\n",
    "# Note: interquartile range (IQR) is the \"box\"-that is, bet. Ist and 3rd quartile\n",
    "# Note: outliers are *actual* min/max values (data points located outside whiskers of box plot)\n",
    "\n",
    "mortality_wide.plot.box()"
   ]
  },
  {
   "cell_type": "code",
   "execution_count": null,
   "id": "23e6cbc5-811f-4dde-8c17-18100fd9b225",
   "metadata": {},
   "outputs": [],
   "source": [
    "# 51. display Line plot for re-indexed mortality_wide DF\n",
    "# Note: xlabel: 'Year', ylabel: 'Deaths per 100,000', title: 'DeathRate by AgeGroup'\n",
    "\n",
    "mortality_wide.plot(xlabel='Year', label='Deaths per 100,000', title= 'DeathRate by AgeGroup')"
   ]
  },
  {
   "cell_type": "code",
   "execution_count": null,
   "id": "a87ee6b8-f0e4-4bc2-ad8e-a78072f4d8be",
   "metadata": {},
   "outputs": [],
   "source": [
    "# 52. using 'mortality_data' DataFrame, group 'AgeGroup', then aggregate only 'DeathRate' column\n",
    "# using 'mean,' 'median,' and 'standard deviation' aggregate functions, then, plot vertical bar plot (rotate x-axis Labels 45 degrees)\n",
    "\n",
    "mortality_data.groupby('AgeGroup')['DeathRate'].agg(['mean', 'median','std']).plot.bar(rot=45)"
   ]
  },
  {
   "cell_type": "code",
   "execution_count": null,
   "id": "1183fed9-653b-4ce3-ad3b-49cdb3b90842",
   "metadata": {},
   "outputs": [],
   "source": [
    "# 53. same as above using horizontal bar plot\n",
    "\n",
    "mortality_data.groupby('AgeGroup')['DeathRate'].agg(['mean', 'median', 'std']).plot.barh()"
   ]
  },
  {
   "cell_type": "code",
   "execution_count": null,
   "id": "0f62a72a-0c50-41f0-a19c-8e38a5eadf87",
   "metadata": {},
   "outputs": [],
   "source": [
    "# 54. using 'mortality_data' DataFrame, query the following years: 1900, 1925, 1950, 1975, 2000, group by 'Year'\n",
    "# then aggregate only 'DeathRate' column using sum() function, and, plot the following graph using pie plot\n",
    "\n",
    "mortality_data.query('Year in (1900, 1925, 1950, 1975, 2000)').groupby('Year').DeathRate.sum().plot.pie()"
   ]
  },
  {
   "cell_type": "code",
   "execution_count": null,
   "id": "80e7b03c-8698-4608-84bb-706b77eb3a97",
   "metadata": {},
   "outputs": [],
   "source": [
    "# 55. using 'mortality_wide' DataFrame,\n",
    "# query the following years: 1900, 1925, 1950, 1975, 2000\n",
    "# then, create subplots for each of the following age groups: 01-04, 05-09, 10-14, 15-19\n",
    "# create a 2x2 Layout, set sharey par. to True (to turn off y labels on remaining horizontal charts), use figure size of 8\"5\" (WxH)\n",
    "\n",
    "mortality_wide.query('Year in (1900, 1925, 1950, 1975, 2000)').plot.barh(\n",
    "    title= ['Child Mortality: 01-94', 'Child Mortality: 05-09', 'Child Mortality: 10-14', 'Child Mortality: 15-19'],\n",
    "    sharey=True, legend=False, subplots=True, layout=(2, 2), figsize= (8,5))"
   ]
  },
  {
   "cell_type": "code",
   "execution_count": null,
   "id": "39874177-9496-4b13-854c-c836603eb416",
   "metadata": {},
   "outputs": [],
   "source": [
    "# https://pandas.pydata.org/pandas-docs/version/0.25.0/reference/api/pandas.DataFrame.plot.scatter.htr\n",
    "# 56. using 'mortality_data' DataFrame, query the following AgeGroup: 01-04 Years,\n",
    "# then, plot the following graph using scatter plot, with a color of your choice\n",
    "# Note, if receiving a color warning, just hit Shift+Enter in this cell\n",
    "# Appears to be an Anaconda issue, as plot documentation is above.\n",
    "\n",
    "mortality_data.query('AgeGroup == \"01-04\"').plot.scatter(x='AgeGroup', y='DeathRate', color='blue')"
   ]
  }
 ],
 "metadata": {
  "kernelspec": {
   "display_name": "Python 3 (ipykernel)",
   "language": "python",
   "name": "python3"
  },
  "language_info": {
   "codemirror_mode": {
    "name": "ipython",
    "version": 3
   },
   "file_extension": ".py",
   "mimetype": "text/x-python",
   "name": "python",
   "nbconvert_exporter": "python",
   "pygments_lexer": "ipython3",
   "version": "3.10.9"
  }
 },
 "nbformat": 4,
 "nbformat_minor": 5
}
