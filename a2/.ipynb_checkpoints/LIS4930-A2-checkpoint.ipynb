{
 "cells": [
  {
   "cell_type": "markdown",
   "id": "82f92c44-fd5b-49ed-aebd-00662550c61b",
   "metadata": {},
   "source": [
    "## Developer: Anthony Patregnani ##\n",
    "\n",
    "# Course: LIS4930, Exploration into AI, Machine and Deep Learning #\n",
    "\n",
    "# Semester: Summer 2023 #\n",
    "\n",
    "# Program Requirements:\n",
    "1. Get\n",
    "2. Clean\n",
    "3. Prepare\n",
    "4. Analyze\n",
    "5. Display/Visualize"
   ]
  },
  {
   "cell_type": "code",
   "execution_count": null,
   "id": "64bf923c-a649-4a4b-a4bc-4047adc36dfd",
   "metadata": {},
   "outputs": [],
   "source": [
    "# 1. import pandas (open source data analysis/science and AI package)\n",
    "\n",
    "import pandas as pd"
   ]
  },
  {
   "cell_type": "markdown",
   "id": "8b1c34f7-6ef7-4755-8862-8e3f7e628426",
   "metadata": {},
   "source": [
    "## Get Data"
   ]
  },
  {
   "cell_type": "code",
   "execution_count": null,
   "id": "4bf820e0-8f91-422c-bfdf-ebc608e213f7",
   "metadata": {},
   "outputs": [],
   "source": [
    "# 2. get mortality data: National Center for Health Statistics (NCHS childhood mortality rate)\n",
    "\n",
    "mortality_url = \"https://data.cdc.gov/api/views/v6ab-adf5/rows.csv\""
   ]
  },
  {
   "cell_type": "code",
   "execution_count": null,
   "id": "b4ab5230-5fac-4fbe-a98c-af26d94aca96",
   "metadata": {},
   "outputs": [],
   "source": [
    "# 3. read csv file into DataFrame\n",
    "\n",
    "mortality_data = pd.read_csv(mortality_url)"
   ]
  },
  {
   "cell_type": "code",
   "execution_count": null,
   "id": "b15124d2-f9a4-4a14-b7b2-c99a19e651f7",
   "metadata": {},
   "outputs": [],
   "source": [
    "# 4. save DF to pickle file\n",
    "\n",
    "mortality_data.to_pickle('mortality_data.pkl')"
   ]
  },
  {
   "cell_type": "code",
   "execution_count": null,
   "id": "548f3c43-e147-4552-ad1f-9e26a08eec59",
   "metadata": {},
   "outputs": [],
   "source": [
    "# 5. read pickle file\n",
    "# Note: Below, data in mortality_data variable changed--no longer csv data, now pickle data\n",
    "\n",
    "mortality_data = pd.read_pickle('mortality_data.pkl')"
   ]
  },
  {
   "cell_type": "code",
   "execution_count": null,
   "id": "8cd0d3fc-6d25-4e44-b83b-8aca9d2187ec",
   "metadata": {},
   "outputs": [],
   "source": [
    "# ways to print an entire Pandas DataFrame:\n",
    "# https://www.geeksforgeeks.org/how-to-print-an-entire-pandas-dataframe-in-python/\n",
    "# Or ...\n",
    "# display Pandas DataFrame in table style:\n",
    "# https://www.geeksforgeeks.org/display-the-pandas-dataframe-in-table-style/\n",
    "# 6. Display first and last five rows with one command!\n",
    "# mortality_data # Note: *only* works in Jupyter Notebooks\n",
    "print(mortality_data)"
   ]
  },
  {
   "cell_type": "code",
   "execution_count": null,
   "id": "c5500612-1abc-4296-8586-668cd8c653e7",
   "metadata": {},
   "outputs": [],
   "source": [
    "# 7. first 5 rows only\n",
    "\n",
    "print(mortality_data.head())"
   ]
  },
  {
   "cell_type": "code",
   "execution_count": null,
   "id": "95b4604a-121a-48af-9912-2f480c6aed34",
   "metadata": {},
   "outputs": [],
   "source": [
    "# 8. last 3 rows only\n",
    "mortality_data.tail(3)"
   ]
  },
  {
   "cell_type": "code",
   "execution_count": null,
   "id": "c2e44229-05fe-455c-b0e3-da7de31f2a9e",
   "metadata": {},
   "outputs": [],
   "source": [
    "# 9. using pandas option_context() function, display 6 rows (first three and last three) and all cols (Note: using odd numbers doesn't appear to work)\n",
    "# Note: option_context() - executes codeblock with set of options that revert to prior settings after excecution\n",
    "# Note: 'None' value for 'display.max_columns' property returns *all* cols.\n",
    "\n",
    "with pd.option_conext(\n",
    "    'display.max_rows', 6,\n",
    "    'display.max_columns', None):\n",
    "    print(mortality_data)"
   ]
  },
  {
   "cell_type": "code",
   "execution_count": null,
   "id": "eccc0b2b-7d32-4cb4-99f5-267019b27af7",
   "metadata": {},
   "outputs": [],
   "source": [
    "# 10. print follwoing DataFrame attributes: index, columns, size, and shape\n",
    "print(\"Index:  \", mortality_data.index)\n",
    "print(\"Columns:\", mortality_data.columns)\n",
    "print(\"Size:   \", mortality_data.size)\n",
    "print(\"Shape:  \", mortality_data.shape)"
   ]
  },
  {
   "cell_type": "code",
   "execution_count": null,
   "id": "19507a72-5d84-47e6-9571-c2e912cd78e0",
   "metadata": {},
   "outputs": [],
   "source": [
    "# 11. display DataFrame values in array format\n",
    "\n",
    "print(mortality_data.values)"
   ]
  },
  {
   "cell_type": "markdown",
   "id": "254d0792-ba14-4a24-9b04-279935516fe0",
   "metadata": {},
   "source": [
    "## Use columns attribute to change column names (i.e., remove any spaces)"
   ]
  },
  {
   "cell_type": "code",
   "execution_count": null,
   "id": "1eaff298-ab1b-425d-bb79-66dd6fa94b0d",
   "metadata": {},
   "outputs": [],
   "source": [
    "# 12. Use columns attribute, and replace() function to remove spaces in column names\n",
    "# removing spaces in column names good practice (otherwise, processing commands limited)\n",
    "\n",
    "mortality_data.columns = mortality_data.columns.str.replace(\" \", \"\")"
   ]
  },
  {
   "cell_type": "code",
   "execution_count": null,
   "id": "179a3138-e4bb-44a3-ba20-f2d133e64e51",
   "metadata": {},
   "outputs": [],
   "source": [
    "# 13. print column names\n",
    "\n",
    "print(mortality_data.columns)"
   ]
  },
  {
   "cell_type": "code",
   "execution_count": null,
   "id": "736584f0-8469-4a25-aa04-fd1261062252",
   "metadata": {},
   "outputs": [],
   "source": [
    "# 14. print column names with first 5 records\n",
    "\n",
    "print(mortality_data.head())"
   ]
  },
  {
   "cell_type": "markdown",
   "id": "f895d4e6-5e17-4499-8fa6-0e57c07a98f1",
   "metadata": {},
   "source": [
    "## Use info(), nunique(), and describe() methods"
   ]
  },
  {
   "cell_type": "code",
   "execution_count": null,
   "id": "f4158a2d-d9c0-45f7-939a-304c66415171",
   "metadata": {},
   "outputs": [],
   "source": [
    "# 15. print DataFrame information\n",
    "\n",
    "mortality_data.info()"
   ]
  },
  {
   "cell_type": "code",
   "execution_count": null,
   "id": "267ad8f5-d496-4858-8d79-c60875b6dd78",
   "metadata": {},
   "outputs": [],
   "source": [
    "# 16. print DataFrame information, including accurate memory usage (using 'deep' value)\n",
    "\n",
    "mortality_data.info(memory_usage='deep')"
   ]
  },
  {
   "cell_type": "code",
   "execution_count": null,
   "id": "c3f9e20c-5d53-4d87-ac27-aacbb988de4d",
   "metadata": {},
   "outputs": [],
   "source": [
    "# 17. summarize unique values (i.e., no duplicates) in each column\n",
    "\n",
    "mortality_data.nunique()"
   ]
  },
  {
   "cell_type": "code",
   "execution_count": null,
   "id": "85291bcb-ced4-4b0e-9692-19463eea6c9a",
   "metadata": {},
   "outputs": [],
   "source": [
    "# 18. display generic stats for each numeric column - using describe() function\n",
    "\n",
    "mortality_data.describe()"
   ]
  },
  {
   "cell_type": "code",
   "execution_count": null,
   "id": "e2ca0cee-ac82-47d5-978e-f78b661ec7d0",
   "metadata": {},
   "outputs": [],
   "source": [
    "# 19. transpose stats so that stat names are display in columns (using T property)\n",
    "\n",
    "mortality_data.describe().T"
   ]
  },
  {
   "cell_type": "code",
   "execution_count": null,
   "id": "f46a8b0f-301d-4c0c-9f15-9190b5efa974",
   "metadata": {},
   "outputs": [],
   "source": [
    "# 20. save cleaned DataFrame to pickle file (mortality_cleaned.pkl)\n",
    "\n",
    "mortality_data.to_pickle('mortality_cleaned.pkl')"
   ]
  },
  {
   "cell_type": "code",
   "execution_count": null,
   "id": "0f256688-86c5-4293-a5e0-9b3e6ddfa21e",
   "metadata": {},
   "outputs": [],
   "source": [
    "# 21. read cleaned pickle file to mortality_data variable\n",
    "\n",
    "mortality_data = pd.read_pickle('mortality_cleaned.pkl')"
   ]
  },
  {
   "cell_type": "code",
   "execution_count": null,
   "id": "2fcb3dba-4d19-4b04-9fc6-745577ceea7d",
   "metadata": {},
   "outputs": [],
   "source": [
    "# 22. display first 5 rows of cleaned pickle file\n",
    "\n",
    "print(mortality_data.head())"
   ]
  },
  {
   "cell_type": "markdown",
   "id": "2c77521a-ab47-47fc-94be-47fee1c8f725",
   "metadata": {},
   "source": [
    "## Accessing Data (Be Careful!)"
   ]
  },
  {
   "cell_type": "markdown",
   "id": "50c9df4f-4dde-44fd-9a0e-63ff8a3da6b2",
   "metadata": {},
   "source": [
    "# Access Data (columns)"
   ]
  },
  {
   "cell_type": "code",
   "execution_count": null,
   "id": "f0f9a620-2e69-4cb9-878e-f9400476a255",
   "metadata": {},
   "outputs": [],
   "source": [
    "# using dot notation\n",
    "# Note: can't use dot notation with more than one column--or column names with spaces!\n",
    "# 23. Display first two records of DeathRate column using dot notation.\n",
    "\n",
    "print(mortality_data.DeathRate.head(2))"
   ]
  },
  {
   "cell_type": "code",
   "execution_count": null,
   "id": "730ab9ec-4286-440e-b154-56527af506ba",
   "metadata": {},
   "outputs": [],
   "source": [
    "# 24. Same as above using single brackets\n",
    "\n",
    "print(mortality_data['DeathRate'].head(2))"
   ]
  },
  {
   "cell_type": "code",
   "execution_count": null,
   "id": "2293ea35-96e7-41ab-9754-48f694679181",
   "metadata": {},
   "outputs": [],
   "source": [
    "# 25. Same as above using double brackets\n",
    "\n",
    "print(mortality_data[['DeathRate']].head(2))"
   ]
  },
  {
   "cell_type": "code",
   "execution_count": null,
   "id": "d4f88eff-6fa1-4d1b-8cbb-08e71441b09a",
   "metadata": {},
   "outputs": [],
   "source": [
    "# Note differences in types!\n",
    "# 26. Display DeathRate type using dot notation.\n",
    "# note type (Series)\n",
    "\n",
    "print(type(mortality_data.DeathRate))"
   ]
  },
  {
   "cell_type": "code",
   "execution_count": null,
   "id": "a4f99bbf-8320-4ac0-8c9a-7a63df4075ff",
   "metadata": {},
   "outputs": [],
   "source": [
    "# 27. Display DeathRate type using single brackets.\n",
    "# note type single brackets (Series)\n",
    "\n",
    "print(type(mortality_data['DeathRate']))"
   ]
  },
  {
   "cell_type": "code",
   "execution_count": null,
   "id": "7b63702f-c18e-4ccd-94c7-0c552224e08a",
   "metadata": {},
   "outputs": [],
   "source": [
    "# 28. Display DeathRate type using double brackets.\n",
    "# note type double brackets (DataFrame)\n",
    "\n",
    "print(type(mortality_data[['DeathRate']]))"
   ]
  },
  {
   "cell_type": "code",
   "execution_count": null,
   "id": "f9606091-a602-47b5-b438-67e01e144e0c",
   "metadata": {},
   "outputs": [],
   "source": [
    "# 29. Access more than one column--*must* use brackets\n",
    "\n",
    "print(mortality_data[['Year','DeathRate']].head(2))"
   ]
  },
  {
   "cell_type": "code",
   "execution_count": null,
   "id": "a83f9254-55ce-44af-9d76-081372415a50",
   "metadata": {},
   "outputs": [],
   "source": [
    "# 30. Display Year and DeathRate type using double brackets\n",
    "# note type (DataFrame)\n",
    "\n",
    "type(mortality_data[['Year','DeathRate']])"
   ]
  },
  {
   "cell_type": "markdown",
   "id": "e8afca1c-b5f1-49e7-be6d-e5333264386a",
   "metadata": {},
   "source": [
    "## Accessing Rows"
   ]
  },
  {
   "cell_type": "code",
   "execution_count": null,
   "id": "5b6e76d3-7f8d-4373-99d1-ec9c7b8b2e00",
   "metadata": {},
   "outputs": [],
   "source": [
    "# 31. Access Data using query() function (Year=1900)\n",
    "\n",
    "print(mortality_data.query('Year==1900'))"
   ]
  },
  {
   "cell_type": "code",
   "execution_count": null,
   "id": "bb31158d-174c-462d-89ab-d62549d9305b",
   "metadata": {},
   "outputs": [],
   "source": [
    "# 32. Access Data using query() function (Year=2000 and AgeGroup != 1 - 4 years)\n",
    "\n",
    "print(mortality_data.query('Year==2000 and AgeGroup != 1 - 4 years'))"
   ]
  },
  {
   "cell_type": "code",
   "execution_count": null,
   "id": "6eaf7c9d-ed07-4e3d-9818-0ff9d0982969",
   "metadata": {},
   "outputs": [],
   "source": [
    "# 33. Access Data using query() function (Year=2000 or Year=1900_, display first 5 records\n",
    "\n",
    "print(mortality_data.query('Year==1900 or Year=2000').head())"
   ]
  },
  {
   "cell_type": "markdown",
   "id": "ba78d47b-65c3-4f5a-a940-d84ec68295b5",
   "metadata": {},
   "source": [
    "## Access subset of rows and columns"
   ]
  },
  {
   "cell_type": "code",
   "execution_count": null,
   "id": "4667d353-6532-460f-ae72-aabefd533ee0",
   "metadata": {},
   "outputs": [],
   "source": [
    "# Note: use backticks if a column name contains spaces\n",
    "# mortality_data.query('Year == 200 and 'Age Group' !- \"1-4 Years\"')\n",
    "\n",
    "# Note: after using query method on subset can use either dot notation or brackets\n",
    "# Generally, use brackets, returns a DataFrame (easier to perform some operations), instead of Series object.\n",
    "\n",
    "# 34. Using dot notation, access data using query() function (Year=1900), only for DeathRate column, display first 5 records\n",
    "\n",
    "print(mortality_data.query('Year==1900').DeathRate.head())"
   ]
  },
  {
   "cell_type": "code",
   "execution_count": null,
   "id": "c77e578b-8a70-4391-bd3d-fee5496c90a1",
   "metadata": {},
   "outputs": [],
   "source": [
    "# 35. Using single bracket notation, access data using query() function (Year=1900), only for DeathRate column, display first 5 records\n",
    "\n",
    "print(mortality_data.query('Year==1900')['DeathRate'].head())"
   ]
  },
  {
   "cell_type": "code",
   "execution_count": null,
   "id": "87947c30-be0c-47cd-ab3a-6bc733371932",
   "metadata": {},
   "outputs": [],
   "source": [
    "# 36. Using double bracket notation, access data using query() function (Year=1900), only for DeathRate column, display first 5 records\n",
    "\n",
    "print(mortality_data.query('Year==1900')[['DeathRate']].head())"
   ]
  },
  {
   "cell_type": "code",
   "execution_count": null,
   "id": "dedd61cf-4e1f-4080-bd5b-26f84a6a9002",
   "metadata": {},
   "outputs": [],
   "source": [
    "# 37. Display data type of dot notation used above\n",
    "\n",
    "print(type(mortality_data.query('Year == 1900').DeathRate.head()))"
   ]
  },
  {
   "cell_type": "code",
   "execution_count": null,
   "id": "62aaceaa-76c2-455f-a902-042b24bbc3c6",
   "metadata": {},
   "outputs": [],
   "source": [
    "# 38. Display data type of single bracket notation used above\n",
    "\n",
    "print(type(mortality_data.query('Year == 1900')['DeathRate'].head()))"
   ]
  },
  {
   "cell_type": "code",
   "execution_count": null,
   "id": "787e0538-e1f9-4f92-809a-4153094bb8f5",
   "metadata": {},
   "outputs": [],
   "source": [
    "# 39. Display data type of double bracket notation used above\n",
    "\n",
    "print(type(mortality_data.query('Year == 1900')[['DeathRate']].head()))"
   ]
  },
  {
   "cell_type": "code",
   "execution_count": null,
   "id": "06700b7e-cbe4-4fd7-a4ef-3446de66bd9a",
   "metadata": {},
   "outputs": [],
   "source": [
    "# 40. Using double bracket notation, access data using query() function (Year==1900), for AgeGroup and DeathRate columns, display first 5 records\n",
    "# Note: *must* use brackets with more than one column (returns DataFrame)\n",
    "\n",
    "print(mortality_data.query('Year == 1900')[['AgeGroup', 'DeathRate']].head())"
   ]
  },
  {
   "cell_type": "markdown",
   "id": "b1e6e6d7-9b6b-4fce-9e74-9029006e48aa",
   "metadata": {},
   "source": [
    "## Access rows with loc[] accessor"
   ]
  },
  {
   "cell_type": "code",
   "execution_count": null,
   "id": "6b283597-1650-4941-a342-481f1eeaf079",
   "metadata": {},
   "outputs": [],
   "source": [
    "# Access rows with loc[] accessor (by labels) using list or slice, here using list\n",
    "# 41. Dislpay row values for 0, 5, and 10 index 'labels' (Note: loc[] interpreted as 'label' of index--*not* integer position!)\n",
    "# Note: here, they are the 1st, 6th, and 11th rows\n",
    "\n",
    "mortality_data.loc[[0,5,10]]"
   ]
  },
  {
   "cell_type": "code",
   "execution_count": null,
   "id": "2a244262-421c-4174-803c-497dfbf0d414",
   "metadata": {},
   "outputs": [],
   "source": [
    "# 42. verify index 'labels' and row values\n",
    "mortality_data.head(11)"
   ]
  },
  {
   "cell_type": "code",
   "execution_count": null,
   "id": "ab646c79-3dc8-4227-b7a9-980cc7604612",
   "metadata": {},
   "outputs": [],
   "source": [
    "# 43. Access rows using *slice* (loc[] accessor includes stop value)\n",
    "# generic syntax: loc[start:stop:step]\n",
    "\n",
    "mortality_data.loc[4:6]"
   ]
  },
  {
   "cell_type": "code",
   "execution_count": null,
   "id": "afb61898-b05b-45e9-b8d4-3d94064885c9",
   "metadata": {},
   "outputs": [],
   "source": [
    "# 44. Access rows using *slice*, include start, stop, and step values)\n",
    "\n",
    "mortality_data.loc[0:20:5]"
   ]
  },
  {
   "cell_type": "code",
   "execution_count": null,
   "id": "e0686179-21e6-433f-be2f-b78335b64fdf",
   "metadata": {},
   "outputs": [],
   "source": [
    "# 45. Access rows using conditional expression (Year=1917)\n",
    "\n",
    "mortality_data.loc[mortality_data.Year == 1917]"
   ]
  },
  {
   "cell_type": "markdown",
   "id": "b0970cb5-4143-4667-ad9a-575fa1e3eaa7",
   "metadata": {},
   "source": [
    "## Access rows and columns with loc[] accessor"
   ]
  },
  {
   "cell_type": "code",
   "execution_count": null,
   "id": "1ba28882-feef-4b18-b6db-21aa7236593c",
   "metadata": {},
   "outputs": [],
   "source": [
    "# 46. Display first and last 5 rows, of Year and AgeGroup columns using loc[] accessor, with slice and list)\n",
    "# Note: Here, includes all rows. However, will only display first and last 5 records\n",
    "\n",
    "mortality_data.loc[:,['Year','AgeGroup']]"
   ]
  },
  {
   "cell_type": "markdown",
   "id": "3aa14811-60da-4d24-bb65-5e3cbb477201",
   "metadata": {},
   "source": [
    "## Access subset of rows and columns with loc[] accessor"
   ]
  },
  {
   "cell_type": "code",
   "execution_count": null,
   "id": "c8547bcd-c024-44c7-b80d-672e69648272",
   "metadata": {},
   "outputs": [],
   "source": [
    "# 47. Using loc[] accessor with lists for row and column labels, display row values for 0, 5, and 10 index 'labels', only for AgeGroup and DeathRate columns)\n",
    "\n",
    "mortality_data.loc[[0,5,10],['AgeGroup','DeathRate']]"
   ]
  },
  {
   "cell_type": "code",
   "execution_count": null,
   "id": "2671c8e6-8780-4453-9012-c2d32eec5807",
   "metadata": {},
   "outputs": [],
   "source": [
    "# 48. Here, using slices of row and column labels\n",
    "\n",
    "mortality_data.loc[4:6,'AgeGroup':'DeathRate']"
   ]
  },
  {
   "cell_type": "markdown",
   "id": "7a47c2ef-14be-4e0e-b7ab-7b525ed674f2",
   "metadata": {},
   "source": [
    "## Access rows with iloc[] accessor"
   ]
  },
  {
   "cell_type": "code",
   "execution_count": null,
   "id": "9e076b59-aec6-4d38-ae6a-539e1d86c47f",
   "metadata": {},
   "outputs": [],
   "source": [
    "# access rows with iloc[] accessor (by positions) using list or slice, here using list\n",
    "# 49. Display first, sixth, and eleventh rows (Note: iloc[] interpreted as 'integer' position of index-- not label!)\n",
    "\n",
    "mortality_data.iloc[[9,5,10]]"
   ]
  },
  {
   "cell_type": "code",
   "execution_count": null,
   "id": "4c331e21-c81a-47f8-84db-d13ddf32ad4f",
   "metadata": {},
   "outputs": [],
   "source": [
    "# 50. verify index 'positions' and row values\n",
    "\n",
    "mortality_data.head(11)"
   ]
  },
  {
   "cell_type": "code",
   "execution_count": null,
   "id": "6d58934a-4a95-458e-bb9f-654c8fcdc662",
   "metadata": {},
   "outputs": [],
   "source": [
    "# 51. Access rows using *slice* (iloc[] accessor does *not* include stop value!)\n",
    "# generic syntax: iloc[start:stop:step]\n",
    "\n",
    "mortality_data.iloc[4:6]"
   ]
  },
  {
   "cell_type": "code",
   "execution_count": null,
   "id": "895c50b1-6d2a-499a-8718-9d579c596beb",
   "metadata": {},
   "outputs": [],
   "source": [
    "# 52. Access rows using *slice*, include start, stop, and step values)\n",
    "\n",
    "mortality_data.iloc[0:20:5]"
   ]
  },
  {
   "cell_type": "markdown",
   "id": "90c1a5a2-62c9-4333-9d86-26cdd07adfb1",
   "metadata": {},
   "source": [
    "## Access subset of rows and columns with iloc[] accessor-- can use negative values"
   ]
  },
  {
   "cell_type": "code",
   "execution_count": null,
   "id": "e18e3c61-97db-443c-bc41-741a73a1fc75",
   "metadata": {},
   "outputs": [],
   "source": [
    "# 53. Display rows and columns using index positions and lists\n",
    "\n",
    "mortality_data.iloc[[0,5,10],[1,2]]"
   ]
  },
  {
   "cell_type": "code",
   "execution_count": null,
   "id": "aacd81c4-7260-4c7b-874c-abf05b725092",
   "metadata": {},
   "outputs": [],
   "source": [
    "# 54. Display rows and columns using index positions and slices\n",
    "\n",
    "mortality_data.iloc[4:7,1:3]"
   ]
  },
  {
   "cell_type": "code",
   "execution_count": null,
   "id": "e44cf3bf-6883-4ea3-9f97-247ac036b912",
   "metadata": {},
   "outputs": [],
   "source": [
    "# 55. Use iloc[] accessor with negative value\n",
    "\n",
    "mortality_data.iloc[-10:]"
   ]
  }
 ],
 "metadata": {
  "kernelspec": {
   "display_name": "Python 3 (ipykernel)",
   "language": "python",
   "name": "python3"
  },
  "language_info": {
   "codemirror_mode": {
    "name": "ipython",
    "version": 3
   },
   "file_extension": ".py",
   "mimetype": "text/x-python",
   "name": "python",
   "nbconvert_exporter": "python",
   "pygments_lexer": "ipython3",
   "version": "3.10.9"
  }
 },
 "nbformat": 4,
 "nbformat_minor": 5
}
