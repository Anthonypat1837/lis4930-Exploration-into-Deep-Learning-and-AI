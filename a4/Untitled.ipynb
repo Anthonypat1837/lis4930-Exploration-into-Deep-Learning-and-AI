{
 "cells": [
  {
   "cell_type": "code",
   "execution_count": null,
   "id": "694d9797-1c1a-4de4-b1aa-f438560ea79b",
   "metadata": {},
   "outputs": [],
   "source": [
    "# Regression Analysis\n",
    "## What is regression analysis?\n",
    "### 1. Equation predicts \"unknown values\" (ie, dependent variables) based upon one or more known values (ie, independent voriable)\n",
    "### 2. Dependent variables (also called]: response, outcome/output, or larger variables (respond to changes in (another variables)\n",
    "### 3. Independent variables (also called): predictor, input, regressor, or explanatory variable(s) (predict/explain changed values of dependent variable(si\n",
    "### 4. Goal: Find the best fitting line which can accurately predict the output.\n",
    "## Dependent variables (output on y-axis) are always the ones being studied- that is, whose variations) is/are being modified someho\n",
    "## Independent variables (input on x-axis) are always the ones being manipulated, to study and compare the effects on the dependent variabl\n",
    "## Note: The designations independent and dependent variables are used to not imply \"cause and effect\" (as do \"predictor\" c \"explanatory terms)\n",
    "## Note: Based on the number of input and output variables, linear regression has three types:\n",
    "### 1. Simple linear regression (1 DV/1 IV)\n",
    "### 2. Multiple linear regression (1 DM/2 or more IVS)\n",
    "### 3. Multivariate linear regression (2 or more DVs/2 or more (Vs)\n",
    "### Simple linear regression: Only one independent variable affecting one dependent variable\n",
    "### Multiple linear regression: Two or more independent variables affecting one dependent variable.\n",
    "### Multivariate linear regression: Two or more independant variables affecting two or more dependent variables\n",
    "\n",
    "# Independent Variables vs. Dependent Variables\n",
    "## Independent Variables (predictors):\n",
    "## • Can the variable(s) be manipulated or controlled?\n",
    "## Does the variable(s) come before the other variables chronologically?\n",
    "## • Is/are the variables being used to see the affects on another variable(s)?\n",
    "## Dependent variables (outcomes):\n",
    "## • Is/are the variable(s) being used as (a) measured outcome(s)?\n",
    "## Does the variable(s) depend upon an(other) variable(s)?\n",
    "## • Is/are this/these variable(s) measured after another variable(s) is/are modified?\n",
    "\n",
    "# Assignment 4 - Predicitive Analysis (Simple linear regression)\n",
    "\n",
    "## Developer: Anthony Patregnani\n",
    "\n",
    "## Course: LIS4930, Exploration into AI, Machine and Deep Learning\n",
    "\n",
    "## Semester: Summer 2023\n",
    "\n",
    "print(\"\\nProgram Requirements:\\n\"\n",
    "      + \"1. Contrast similarities/differences among AI vs. Machine Learning vs. Deep Learning \\n\"\n",
    "      + \"2. Identify correlations\\n\"\n",
    "      + \"3. Use Seaborn (Data visualization library)\\n\"\n",
    "      + \"4. Graph Correlations\\n\"\n",
    "      + \"5. Use simple linear regression\\n\"\n",
    "      + \"6. Create linear model\\n\"\n",
    "      + \"7. Plot regression line\\n\"\n",
    "      + \"8. Make predictions - using simple linear regression model\\n\"\n",
    "      + \"9. Plot Residuals\\n\")\n"
   ]
  },
  {
   "cell_type": "code",
   "execution_count": null,
   "id": "1a059c16-1406-4e14-b4aa-4bbfc6f21382",
   "metadata": {},
   "outputs": [],
   "source": [
    "# 1. import pandas (open source data analysis/science and AI package) and numpy to perform mathematical functions\n",
    "import pandas as pd\n",
    "import numpy as np"
   ]
  },
  {
   "cell_type": "markdown",
   "id": "f9139e34-0732-4e8e-a4bc-271155aaa814",
   "metadata": {},
   "source": [
    "# Get data - read cleaned .csv file"
   ]
  },
  {
   "cell_type": "code",
   "execution_count": null,
   "id": "f64ff356-8cbd-4be5-9274-54e2b70c5b2d",
   "metadata": {},
   "outputs": [],
   "source": [
    "# 2. assign cleaned .csv file to \"advertising_data\" variable, then read .csv file to \"housing\" variable\n",
    "# read the given .csv file and view some sample records\n",
    "advertising_data = pd.read_csv(\"my_company_data.csv\")\n",
    "\n",
    "# display first and last 5 records\n",
    "advertising_data"
   ]
  },
  {
   "cell_type": "markdown",
   "id": "54b7e7d6-dcb9-4317-a4cc-5adf2e0dcf96",
   "metadata": {},
   "source": [
    "# Advertising Dataset"
   ]
  },
  {
   "cell_type": "code",
   "execution_count": null,
   "id": "7d8b4609-96a3-414e-bdb7-8dc369c623de",
   "metadata": {},
   "outputs": [],
   "source": [
    "# 3. print number of rows and columns\n",
    "advertising_data.shape"
   ]
  },
  {
   "cell_type": "code",
   "execution_count": null,
   "id": "12d56123-3d46-4352-9282-46bd2a5d6b30",
   "metadata": {},
   "outputs": [],
   "source": [
    "# 4. print dataframe info (note: also indicates null values, which, if present, would need to be remedied.)\n",
    "advertising_data.info()"
   ]
  },
  {
   "cell_type": "code",
   "execution_count": null,
   "id": "6a5a7bfe-d1d6-49df-85e1-942d611baa6a",
   "metadata": {},
   "outputs": [],
   "source": [
    "# 5. print dataframe statistics summary\n",
    "advertising_data.describe()"
   ]
  },
  {
   "cell_type": "code",
   "execution_count": null,
   "id": "163fde07-6b98-4866-8c64-0f08fb919dfd",
   "metadata": {},
   "outputs": [],
   "source": [
    "# 6. Display pairwise correlations of *all* columns in the dataframe.\n",
    "advertising_data.corr().head()\n",
    "\n",
    "# note: *Perfect* correlations (1.0) with same attributes (ex TV with TV)\n",
    "# Note: high correlation between TV and sales, much less with radio"
   ]
  },
  {
   "cell_type": "code",
   "execution_count": null,
   "id": "4adb09b7-2d14-44f7-9b32-57c5a919b003",
   "metadata": {},
   "outputs": [],
   "source": [
    "# 7. import matplotlib and seaborn libraries to visualize data\n",
    "import matplotlib.pyplot as plt\n",
    "import seaborn as sns"
   ]
  },
  {
   "cell_type": "code",
   "execution_count": null,
   "id": "09310c1e-6d55-45b4-9479-d6e241a12764",
   "metadata": {},
   "outputs": [],
   "source": [
    "# 8. visualize data for correlations using pairplot(), y=DV(s) and x=IV(s)\n",
    "# pairplot(): Plot pairwise relationships in dataset\n",
    "# Note: Scatter plot good when comparing two numeric variables, like here!\n",
    "sns.pairplot(advertising_data, x_vars=['TV', 'Radio', 'Newspaper'], y_vars='Sales', height=4, aspect=1, kind='scatter')\n",
    "plt.show()"
   ]
  },
  {
   "cell_type": "code",
   "execution_count": null,
   "id": "021c0662-1295-4aea-b5df-f3f4203a6b0b",
   "metadata": {},
   "outputs": [],
   "source": [
    "# 9. Display one attribute's correlation (\"price\") to *all* other columns in dataframe, sorted in descending order by price.\n",
    "advertising_data.corr()[['Sales']].sort_values(by='Sales', ascending=False)"
   ]
  },
  {
   "cell_type": "code",
   "execution_count": null,
   "id": "f70c65ad-d7f5-4be7-9c89-d3b907726692",
   "metadata": {},
   "outputs": [],
   "source": [
    "# 10. Focus on correlation between TV and Sales\n",
    "sns.relplot(data=advertising_data, x='TV', y='Sales')\n",
    "\n",
    "# Note: Seaborn relational plot (relplot) visualizes how variables relate to each other within a dataset\n",
    "# Note: when looking for correlation, see if a line can be drawn through as many data points as possible"
   ]
  },
  {
   "cell_type": "code",
   "execution_count": null,
   "id": "ccc4f8a6-846d-455d-aa99-4168a2a09680",
   "metadata": {},
   "outputs": [],
   "source": [
    "# 11. visually display correlations using Seaborn's heatmap() function\n",
    "sns.heatmap(advertising_data.corr(), cmap=\"YlGnBu\", annot = True)\n",
    "plt.show()"
   ]
  },
  {
   "cell_type": "code",
   "execution_count": null,
   "id": "6edd2e9b-dcb2-4b8a-a0a9-2c1ea9dc594f",
   "metadata": {},
   "outputs": [],
   "source": [
    "# 12. Visually condense correlations of one variables to other variables.\n",
    "sns.heatmap(data=advertising_data.corr()[['Sales']].sort_values(by='Sales', ascending=False), annot=True, cmap='YlGnBu', cbar=False, fmt=f'.2f')\n",
    "\n",
    "# Note: *annot* property set to *True* so that r-values are displayed in each cell"
   ]
  },
  {
   "cell_type": "markdown",
   "id": "c974c88d-5c86-499b-85b3-1f2b03393bc1",
   "metadata": {},
   "source": [
    "# Simple Linear Regression Steps\n",
    "\n",
    "## 1. Identify x (IV) and y (DV): x=TV, y=Sales\n",
    "## 2. Create Train and Test Datasets\n",
    "## 3. Train model\n",
    "## 4. Evaluate model\n"
   ]
  },
  {
   "cell_type": "code",
   "execution_count": null,
   "id": "b3fff2c9-568f-479a-8156-94492cdb4401",
   "metadata": {},
   "outputs": [],
   "source": [
    "# 13. Identify x (IV) and y (DV)\n",
    "x = advertising_data['TV']\n",
    "y = advertising_data['Sales']\n",
    "\n",
    "# 14. Create Train and test datasets\n",
    "# a. split variables into training and testing sets\n",
    "# b. build model using training set, then run model on testing set\n",
    "\n",
    "# split variables into train and test datasets into 7:3 ratio, respectively, by importing train_test_split\n",
    "# 70% of observations for training, and 30% for testing\n",
    "\n",
    "# random_state: controls randomization during splitting\n",
    "# random_state value not important-- can be any non-negative integer\n",
    "\n",
    "from sklearn.model_selection import train_test_split\n",
    "x_train, x_test, y_train, y_test = train_test_split(x, y, train_size = 0.7, test_size = 0.3, random_state = 100)"
   ]
  },
  {
   "cell_type": "markdown",
   "id": "e8713699-b20c-453f-948c-0a9e6758a329",
   "metadata": {},
   "source": [
    "# Review Train datasets after splitting"
   ]
  },
  {
   "cell_type": "code",
   "execution_count": null,
   "id": "ea26529e-4e96-4019-ace4-1aaaa0cb6846",
   "metadata": {},
   "outputs": [],
   "source": [
    "# 15. Display x training dataset\n",
    "x_train"
   ]
  },
  {
   "cell_type": "code",
   "execution_count": null,
   "id": "2a03ff96-a361-4ac5-bc6f-e26281da670b",
   "metadata": {},
   "outputs": [],
   "source": [
    "# 16. Display y training dataset\n",
    "y_train"
   ]
  },
  {
   "cell_type": "markdown",
   "id": "ae4ec22e-9c41-4ec9-bbf0-1a122a2bb73c",
   "metadata": {},
   "source": [
    "## Add column to perform regression fit properly for simple linear regression:"
   ]
  },
  {
   "cell_type": "code",
   "execution_count": null,
   "id": "555e7865-da77-42d1-bb22-fe848555a7ee",
   "metadata": {},
   "outputs": [],
   "source": [
    "# 17. Display shape for x train and test datasets, *before* adding column\n",
    "print(x_train.shape)\n",
    "print(x_test.shape)"
   ]
  },
  {
   "cell_type": "markdown",
   "id": "1ba11bcd-6591-4535-bf87-184d31560c6d",
   "metadata": {},
   "source": [
    "# Prepare Model"
   ]
  },
  {
   "cell_type": "code",
   "execution_count": null,
   "id": "0daf69cc-5007-4080-a403-ab502e43a330",
   "metadata": {},
   "outputs": [],
   "source": [
    "# 18. Add additional column to train and test datasets\n",
    "# By reshaping we can add or remove dimensions\n",
    "# reshape() concept: first, raveling array\n",
    "# then inserting/deleting elements from reveled array into new array, using same index order for reveling\n",
    "x_train = x_train.values.reshape(-1, 1)\n",
    "x_test = x_test.values.reshape(-1, 1)\n",
    "\n",
    "# 19. display shape for x train and test data, *after* adding column \n",
    "print(x_train.shape)\n",
    "print(x_test.shape)"
   ]
  },
  {
   "cell_type": "markdown",
   "id": "d80384cb-2306-43a1-99f8-9e9db8ee3b50",
   "metadata": {},
   "source": [
    "# Fitting model: Find best fitting line -- to accurately predict output"
   ]
  },
  {
   "cell_type": "code",
   "execution_count": null,
   "id": "bb79d655-47d5-427f-aef2-ec489f02811b",
   "metadata": {},
   "outputs": [],
   "source": [
    "# 20. fit regression line to plot\n",
    "from sklearn.linear_model import LinearRegression\n",
    "\n",
    "ln = LinearRegression().fit(x_train, y_train)"
   ]
  },
  {
   "cell_type": "markdown",
   "id": "215aa23e-1af2-4168-9fd6-7be1a2076925",
   "metadata": {},
   "source": [
    "# Intercept and Slope - Why?"
   ]
  },
  {
   "cell_type": "code",
   "execution_count": null,
   "id": "c9609201-381e-41ab-9983-d564695e9e5b",
   "metadata": {},
   "outputs": [],
   "source": [
    "# print model coefficients\n",
    "\n",
    "# 21. print intercept value: Represents mean value of DV when all of IV(s) in model are equal to zero (also known as y-intercept)\n",
    "print(\"Intercept :\", ln.intercept_)\n",
    "\n",
    "# 22. print slope value: Represents how much DV expected to change, as IV(s) increases/decreases\n",
    "print(\"Slope :\", ln.coef_)"
   ]
  },
  {
   "cell_type": "code",
   "execution_count": null,
   "id": "4bd225ae-3b90-4763-9828-70dc90a0bb8a",
   "metadata": {},
   "outputs": [],
   "source": [
    "# 23. simple linear regression formula from above values\n",
    "# Y = mX + b\n",
    "# Y = DV, X = IV, m = estimated slope, b = estimated intercept\n",
    "\n",
    "# r2 values - how well regression line approximates actual data"
   ]
  },
  {
   "cell_type": "code",
   "execution_count": null,
   "id": "2b9b1227-6dde-46f2-8fdf-6c921dcc9fe1",
   "metadata": {},
   "outputs": [],
   "source": [
    "# 24. predict y_value\n",
    "y_train_predict = ln.predict(x_train)\n",
    "y_test_predict = ln.predict(x_test)\n",
    "\n",
    "from sklearn.metrics import r2_score\n",
    "\n",
    "# 25. print and compare r2 values of both train and test data\n",
    "print(r2_score(y_train, y_train_predict))\n",
    "print(r2_score(y_test, y_test_predict))\n",
    "\n",
    "# Note: (r2): Statistical measure of how well regression line approximates actual data\n",
    "# Represents the proportion of variance for a DV that's explained by IV(s) in a regression model\n",
    "# Bottom-line: r2 values on test data within 5% of r2 values on training data. Model looks good!"
   ]
  },
  {
   "cell_type": "markdown",
   "id": "b18813bb-3c5c-4d97-99b9-20950578deb4",
   "metadata": {},
   "source": [
    "# Plot Linear regression (using simple estimation)"
   ]
  },
  {
   "cell_type": "code",
   "execution_count": null,
   "id": "4d90b7d2-7125-471d-afb8-d9e852661970",
   "metadata": {},
   "outputs": [],
   "source": [
    "# 26. Plot data and linear model fit\n",
    "sns.regplot(data=advertising_data, x='TV', y='Sales', ci=85, scatter_kws={'s':5}, line_kws={'lw':1, 'color':'orange'})\n",
    "# scatter_kws changes dot size, line_kws changes line color and width\n",
    "# ci (confidence interval used for regression estimate)"
   ]
  },
  {
   "cell_type": "markdown",
   "id": "6a961373-3c9a-4682-a11c-a905dc9efe6f",
   "metadata": {},
   "source": [
    "# Plot residuals using Seaborn"
   ]
  },
  {
   "cell_type": "code",
   "execution_count": null,
   "id": "68424eee-a49d-4fba-b50f-3adff7e434ce",
   "metadata": {},
   "outputs": [],
   "source": [
    "# 27. Residual plot: used to plot residual values after plotting linear regression model.\n",
    "sns.residplot(data=advertising_data, x='TV', y='Sales', scatter_kws={'s':5}, lowess=True, line_kws={'color':'green'})"
   ]
  }
 ],
 "metadata": {
  "kernelspec": {
   "display_name": "Python 3 (ipykernel)",
   "language": "python",
   "name": "python3"
  },
  "language_info": {
   "codemirror_mode": {
    "name": "ipython",
    "version": 3
   },
   "file_extension": ".py",
   "mimetype": "text/x-python",
   "name": "python",
   "nbconvert_exporter": "python",
   "pygments_lexer": "ipython3",
   "version": "3.10.9"
  }
 },
 "nbformat": 4,
 "nbformat_minor": 5
}
