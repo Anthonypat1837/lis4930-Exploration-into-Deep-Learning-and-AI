{
 "cells": [
  {
   "cell_type": "markdown",
   "id": "d5b61c3e-668e-49d6-9457-05854e0d8722",
   "metadata": {
    "tags": []
   },
   "source": [
    "# Developer: Anthony Patregnani #\n",
    "\n",
    "# Course: LIS4930, Exploration into AI, Machine and Deep Learning\n",
    "\n",
    "# Semester: Summer 2023\n",
    "\n",
    "Program Requirements:\n",
    "1. Get Data\n",
    "2. Prepare Data\n",
    "3. Display Data\n",
    "4. In each of the following examples, research functions/properties/options indicated below\n",
    "      "
   ]
  },
  {
   "cell_type": "code",
   "execution_count": null,
   "id": "2096249e-f92a-44a5-9f89-e7b2da5a8fd7",
   "metadata": {
    "tags": []
   },
   "outputs": [],
   "source": [
    "import cv2\n",
    "import numpy as np\n",
    "import matplotlib.pylpot as plt\n"
   ]
  },
  {
   "cell_type": "code",
   "execution_count": null,
   "id": "13c090c4-dba2-4f75-b720-b01c3a79d1b6",
   "metadata": {},
   "outputs": [],
   "source": [
    "img = cv2.imread('watch.jpg')\n",
    "\n",
    "if img is None:\n",
    "    print(\"Check file path!\")"
   ]
  },
  {
   "cell_type": "code",
   "execution_count": null,
   "id": "4ce32187-842b-4682-b01d-bf99f3dfea4d",
   "metadata": {},
   "outputs": [],
   "source": [
    "print(type(img))\n",
    "# <class 'numpy.ndarray'>\n",
    "print(img.shape)\n",
    "# (168, 300, 3)\n",
    "\n",
    "print(img.dtype)\n",
    "# uint8\n"
   ]
  },
  {
   "cell_type": "code",
   "execution_count": null,
   "id": "3de19cee-2cc4-45a4-a380-5f6e225e3196",
   "metadata": {},
   "outputs": [],
   "source": [
    "dimensions = img.shape\n",
    "\n",
    "height = img.shape[0]\n",
    "width = img.shape[1]\n",
    "channels = img.shape[2]\n",
    "\n",
    "print('Image Dimension    : ',dimensions)\n",
    "print('Image Height       : ',height)\n",
    "print('Image Width        : ',width)\n",
    "print('Number of Channels : ',channels)"
   ]
  },
  {
   "cell_type": "code",
   "execution_count": null,
   "id": "6d6c1576-b009-4b31-86be-02e290430913",
   "metadata": {},
   "outputs": [],
   "source": [
    "plt.imshow(img)\n",
    "plt.title('my BGR pic')\n",
    "plt.show()\n",
    "\n"
   ]
  },
  {
   "cell_type": "code",
   "execution_count": null,
   "id": "58735424-00f8-4cfd-9c85-ad2ecc4464c0",
   "metadata": {},
   "outputs": [],
   "source": [
    "flags = [i for i in dir(cv2) if i.startswith('COLOR_')]\n",
    "print(flags)"
   ]
  },
  {
   "cell_type": "code",
   "execution_count": null,
   "id": "fc299203-ae20-431d-a570-11702d80d3d0",
   "metadata": {},
   "outputs": [],
   "source": [
    "img_rgb = cv2.cvtColor(img, cv2.COLOR_BGR2RGB)\n",
    "\n",
    "plt.imshow(img_rgb)\n",
    "plt.title('my RGB pic')\n",
    "plt.show()"
   ]
  },
  {
   "cell_type": "code",
   "execution_count": null,
   "id": "8c09ffc4-1c93-40f7-b0e1-d2eb180d49cd",
   "metadata": {},
   "outputs": [],
   "source": [
    "cv2.imwrite('watch_new.png', img)"
   ]
  },
  {
   "cell_type": "code",
   "execution_count": null,
   "id": "a57fe488-ed04-45fc-9b75-f562a2152bf5",
   "metadata": {},
   "outputs": [],
   "source": [
    "True"
   ]
  },
  {
   "cell_type": "code",
   "execution_count": null,
   "id": "ff1ab73b-d841-4b55-8598-1a929afb40a8",
   "metadata": {},
   "outputs": [],
   "source": [
    "myimg = cv2.imread('cat-grayscale.jpg')\n",
    "\n",
    "resized = cv2.resixe(myimg, (128, 128), interpolation = cv2.INTER_AREA) \n",
    "mynewimg = cv2.cvtColor(resized, cv2.COLOR_BGR2GRAY)"
   ]
  },
  {
   "cell_type": "code",
   "execution_count": null,
   "id": "e18419c7-a679-4e2b-bc11-aeddfa9ceb03",
   "metadata": {},
   "outputs": [],
   "source": [
    "print(mynewimg.shape) \n",
    "print(type(mynewimg))\n",
    "print(type(mynewimg.shape))"
   ]
  },
  {
   "cell_type": "code",
   "execution_count": null,
   "id": "5290937e-76d6-43f8-b804-b7bc3b192ea1",
   "metadata": {},
   "outputs": [],
   "source": [
    "print(mynewimg[:15, :15])"
   ]
  },
  {
   "cell_type": "code",
   "execution_count": null,
   "id": "bd039143-c074-40f6-b864-8ec33682c37d",
   "metadata": {},
   "outputs": [],
   "source": [
    "print(mynewimg.shape)\n",
    "plt.imshow(mynewimg, cmap='gray')\n",
    "plt.colorbar()\n",
    "plt.show()"
   ]
  },
  {
   "cell_type": "code",
   "execution_count": null,
   "id": "f4b1be27-ea49-4049-83e6-5d61ed3fcceb",
   "metadata": {},
   "outputs": [],
   "source": [
    "np.savetxt('mycat.csv', mynewimg, fmt='%.1f\", delimiter=',')"
   ]
  }
 ],
 "metadata": {
  "kernelspec": {
   "display_name": "Python 3 (ipykernel)",
   "language": "python",
   "name": "python3"
  },
  "language_info": {
   "codemirror_mode": {
    "name": "ipython",
    "version": 3
   },
   "file_extension": ".py",
   "mimetype": "text/x-python",
   "name": "python",
   "nbconvert_exporter": "python",
   "pygments_lexer": "ipython3",
   "version": "3.10.9"
  }
 },
 "nbformat": 4,
 "nbformat_minor": 5
}
