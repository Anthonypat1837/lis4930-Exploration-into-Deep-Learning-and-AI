{
 "cells": [
  {
   "cell_type": "markdown",
   "id": "3ab34787",
   "metadata": {},
   "source": [
    "### Tip Calculator\n",
    "\n",
    " \n",
    "**Developer:** Anthony Patregnani\n",
    "\n",
    "**Course:** LIS4930\n",
    "\n",
    "**Semester:** Summer 2023\n",
    "      \n",
    "**Program Requirements**\n",
    "\n",
    "    1. Must use float data type for user input except, \"Party Number\"\n",
    "    2. Must round calculations to two decimal places.\n",
    "    3. Must format currency with dollar sign, and two decimal places.\n",
    "    "
   ]
  },
  {
   "cell_type": "code",
   "execution_count": null,
   "id": "619f5167",
   "metadata": {},
   "outputs": [
    {
     "name": "stdout",
     "output_type": "stream",
     "text": [
      "\n",
      "User Input:\n"
     ]
    }
   ],
   "source": [
    "print(\"\\nUser Input:\")\n",
    "\n",
    "meal_cost = float(input(\"Cost of meal: \"))\n",
    "tax_percent = float(input(\"Tax percent: \"))\n",
    "tip_percent = float(input(\"Tip percent: \"))\n",
    "people_num = int(input(\"Party Number: \"))"
   ]
  },
  {
   "cell_type": "code",
   "execution_count": null,
   "id": "8b05c153",
   "metadata": {},
   "outputs": [],
   "source": [
    "tax_amount = round(meal_cost * (tax_percent / 100), 2)\n",
    "due_amount = round(meal_cost + tax_amount, 2)\n",
    "tip_amount = round((due_amount) * (tip_percent / 100), 2)\n",
    "total = round(meal_cost + tax_amount + tip_amount, 2)\n",
    "split = round(total / people_num, 2)"
   ]
  },
  {
   "cell_type": "code",
   "execution_count": null,
   "id": "cd19e1d1",
   "metadata": {},
   "outputs": [],
   "source": [
    "print(\"\\nProgram Output:\")\n",
    "print(\"Subtotal:\\t\", \"${0:,.2f}\".format(meal_cost))\n",
    "print(\"Tax:\\t\\t\", \"${0:,.2f}\".format(tax_amount))\n",
    "print(\"Amount due:\\t\", \"${0:,.2f}\".format(due_amount))\n",
    "print(\"Gratuity:\\t\", \"${0:,.2f}\".format(tip_amount))\n",
    "print(\"Total:\\t\\t\", \"${0:,.2f}\".format(total))\n",
    "print(\"Split \" + \"(\" + str(people_num) + \"):\\t\", \"${0:,.2f}\".format(split))\n",
    " "
   ]
  }
 ],
 "metadata": {
  "kernelspec": {
   "display_name": "Python 3 (ipykernel)",
   "language": "python",
   "name": "python3"
  },
  "language_info": {
   "codemirror_mode": {
    "name": "ipython",
    "version": 3
   },
   "file_extension": ".py",
   "mimetype": "text/x-python",
   "name": "python",
   "nbconvert_exporter": "python",
   "pygments_lexer": "ipython3",
   "version": "3.10.9"
  }
 },
 "nbformat": 4,
 "nbformat_minor": 5
}
